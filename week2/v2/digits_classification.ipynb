{
 "cells": [
  {
   "cell_type": "markdown",
   "metadata": {
    "slideshow": {
     "slide_type": "slide"
    }
   },
   "source": [
    "# MNIST digits classification with TensorFlow"
   ],
   "execution_count": null,
   "outputs": []
  },
  {
   "cell_type": "markdown",
   "metadata": {},
   "source": [
    "<img src=\"images/mnist_sample.png\" style=\"width:30%\">"
   ],
   "execution_count": null,
   "outputs": []
  },
  {
   "cell_type": "code",
   "execution_count": 1,
   "metadata": {},
   "outputs": [
    {
     "output_type": "stream",
     "name": "stdout",
     "text": "We're using TF 2.1.0\n"
    }
   ],
   "source": [
    "import numpy as np\n",
    "from sklearn.metrics import accuracy_score\n",
    "from matplotlib import pyplot as plt\n",
    "%matplotlib inline\n",
    "import tensorflow.compat.v1 as tf\n",
    "print(\"We're using TF\", tf.__version__)\n",
    "\n",
    "import sys\n",
    "sys.path.append(\"../..\")\n",
    "import grading\n",
    "\n",
    "import matplotlib_utils\n",
    "from importlib import reload\n",
    "reload(matplotlib_utils)\n",
    "\n",
    "import grading_utils\n",
    "reload(grading_utils)\n",
    "\n",
    "import keras_utils\n",
    "from keras_utils import reset_tf_session"
   ]
  },
  {
   "cell_type": "markdown",
   "metadata": {},
   "source": [
    "# Fill in your Coursera token and email\n",
    "To successfully submit your answers to our grader, please fill in your Coursera submission token and email"
   ],
   "execution_count": null,
   "outputs": []
  },
  {
   "cell_type": "code",
   "execution_count": 2,
   "metadata": {},
   "outputs": [],
   "source": [
    "grader = grading.Grader(assignment_key=\"XtD7ho3TEeiHQBLWejjYAA\", \n",
    "                        all_parts=[\"9XaAS\", \"vmogZ\", \"RMv95\", \"i8bgs\", \"rE763\"])"
   ]
  },
  {
   "cell_type": "code",
   "execution_count": 3,
   "metadata": {},
   "outputs": [],
   "source": [
    "# token expires every 30 min\n",
    "COURSERA_TOKEN = \"\"\n",
    "COURSERA_EMAIL = \"\""
   ]
  },
  {
   "cell_type": "markdown",
   "metadata": {},
   "source": [
    "# Look at the data\n",
    "\n",
    "In this task we have 50000 28x28 images of digits from 0 to 9.\n",
    "We will train a classifier on this data."
   ],
   "execution_count": null,
   "outputs": []
  },
  {
   "cell_type": "code",
   "execution_count": 4,
   "metadata": {},
   "outputs": [],
   "source": [
    "import preprocessed_mnist\n",
    "X_train, y_train, X_val, y_val, X_test, y_test = preprocessed_mnist.load_dataset()"
   ]
  },
  {
   "cell_type": "code",
   "execution_count": 5,
   "metadata": {},
   "outputs": [
    {
     "output_type": "stream",
     "name": "stdout",
     "text": "X_train [shape (50000, 28, 28)] sample patch:\n [[0.         0.29803922 0.96470588 0.98823529 0.43921569]\n [0.         0.33333333 0.98823529 0.90196078 0.09803922]\n [0.         0.33333333 0.98823529 0.8745098  0.        ]\n [0.         0.33333333 0.98823529 0.56862745 0.        ]\n [0.         0.3372549  0.99215686 0.88235294 0.        ]]\nA closeup of a sample patch:\n"
    },
    {
     "output_type": "display_data",
     "data": {
      "text/plain": "<Figure size 432x288 with 1 Axes>",
      "image/svg+xml": "<?xml version=\"1.0\" encoding=\"utf-8\" standalone=\"no\"?>\n<!DOCTYPE svg PUBLIC \"-//W3C//DTD SVG 1.1//EN\"\n  \"http://www.w3.org/Graphics/SVG/1.1/DTD/svg11.dtd\">\n<!-- Created with matplotlib (https://matplotlib.org/) -->\n<svg height=\"248.518125pt\" version=\"1.1\" viewBox=\"0 0 245.2025 248.518125\" width=\"245.2025pt\" xmlns=\"http://www.w3.org/2000/svg\" xmlns:xlink=\"http://www.w3.org/1999/xlink\">\n <defs>\n  <style type=\"text/css\">\n*{stroke-linecap:butt;stroke-linejoin:round;}\n  </style>\n </defs>\n <g id=\"figure_1\">\n  <g id=\"patch_1\">\n   <path d=\"M 0 248.518125 \nL 245.2025 248.518125 \nL 245.2025 0 \nL 0 0 \nz\n\" style=\"fill:none;\"/>\n  </g>\n  <g id=\"axes_1\">\n   <g id=\"patch_2\">\n    <path d=\"M 20.5625 224.64 \nL 238.0025 224.64 \nL 238.0025 7.2 \nL 20.5625 7.2 \nz\n\" style=\"fill:#ffffff;\"/>\n   </g>\n   <g clip-path=\"url(#p5e26e434c5)\">\n    <image height=\"218\" id=\"image1f4225e066\" transform=\"scale(1 -1)translate(0 -218)\" width=\"218\" x=\"20.5625\" xlink:href=\"data:image/png;base64,\niVBORw0KGgoAAAANSUhEUgAAANoAAADaCAYAAADAHVzbAAAABHNCSVQICAgIfAhkiAAAAvtJREFUeJzt1bGtGlEARFGvhYToAvrYZuiRFqALREgDBGTrFvYl9/nb51QwydUs27Ztv36I+/0+e8KQdV1nTxhyPp9nT9jt9XrNnjDk9+wB8D8QGgSEBgGhQUBoEBAaBIQGAaFBQGgQEBoEhAYBoUFAaBAQGgSEBgGhQUBoEBAaBIQGAaFBQGgQEBoEhAYBoUFAaBAQGgSEBgGhQUBoEBAaBIQGAaFBQGgQEBoEhAYBoUFAaBAQGgSEBgGhQUBoEBAaBIQGgcPsASOWZZk9YchP23u9XmdP+Gd5NAgIDQJCg4DQICA0CAgNAkKDgNAgIDQICA0CQoOA0CAgNAgIDQJCg4DQICA0CAgNAkKDgNAgIDQICA0CQoOA0CAgNAgIDQJCg4DQICA0CAgNAkKDgNAgIDQICA0CQoOA0CAgNAgIDQJCg4DQICA0CAgNAsu2bdvsEXs9Ho/ZE4as6zp7wpDL5TJ7wm7P53P2hCEeDQJCg4DQICA0CAgNAkKDgNAgIDQICA0CQoOA0CAgNAgIDQJCg4DQICA0CAgNAkKDgNAgIDQICA0CQoOA0CAgNAgIDQJCg4DQICA0CAgNAkKDgNAgIDQICA0CQoOA0CAgNAgIDQJCg4DQICA0CAgNAkKDgNAgcJg9gL/H9/udPWG3z+cze8IQjwYBoUFAaBAQGgSEBgGhQUBoEBAaBIQGAaFBQGgQEBoEhAYBoUFAaBAQGgSEBgGhQUBoEBAaBIQGAaFBQGgQEBoEhAYBoUFAaBAQGgSEBgGhQUBoEBAaBIQGAaFBQGgQEBoEhAYBoUFAaBAQGgSEBgGhQeAwe8CI0+k0e8KQ4/E4e8KQ9/s9e8Jut9tt9oQhHg0CQoOA0CAgNAgIDQJCg4DQICA0CAgNAkKDgNAgIDQICA0CQoOA0CAgNAgIDQJCg4DQICA0CAgNAkKDgNAgIDQICA0CQoOA0CAgNAgIDQJCg4DQICA0CAgNAkKDgNAgIDQICA0CQoOA0CAgNAgIDQJCg4DQIPAHCZkhn+FUFOEAAAAASUVORK5CYII=\" y=\"-6.64\"/>\n   </g>\n   <g id=\"matplotlib.axis_1\">\n    <g id=\"xtick_1\">\n     <g id=\"line2d_1\">\n      <defs>\n       <path d=\"M 0 0 \nL 0 3.5 \n\" id=\"m1613198722\" style=\"stroke:#000000;stroke-width:0.8;\"/>\n      </defs>\n      <g>\n       <use style=\"stroke:#000000;stroke-width:0.8;\" x=\"42.3065\" xlink:href=\"#m1613198722\" y=\"224.64\"/>\n      </g>\n     </g>\n     <g id=\"text_1\">\n      <!-- 0 -->\n      <defs>\n       <path d=\"M 31.78125 66.40625 \nQ 24.171875 66.40625 20.328125 58.90625 \nQ 16.5 51.421875 16.5 36.375 \nQ 16.5 21.390625 20.328125 13.890625 \nQ 24.171875 6.390625 31.78125 6.390625 \nQ 39.453125 6.390625 43.28125 13.890625 \nQ 47.125 21.390625 47.125 36.375 \nQ 47.125 51.421875 43.28125 58.90625 \nQ 39.453125 66.40625 31.78125 66.40625 \nz\nM 31.78125 74.21875 \nQ 44.046875 74.21875 50.515625 64.515625 \nQ 56.984375 54.828125 56.984375 36.375 \nQ 56.984375 17.96875 50.515625 8.265625 \nQ 44.046875 -1.421875 31.78125 -1.421875 \nQ 19.53125 -1.421875 13.0625 8.265625 \nQ 6.59375 17.96875 6.59375 36.375 \nQ 6.59375 54.828125 13.0625 64.515625 \nQ 19.53125 74.21875 31.78125 74.21875 \nz\n\" id=\"DejaVuSans-48\"/>\n      </defs>\n      <g transform=\"translate(39.12525 239.238437)scale(0.1 -0.1)\">\n       <use xlink:href=\"#DejaVuSans-48\"/>\n      </g>\n     </g>\n    </g>\n    <g id=\"xtick_2\">\n     <g id=\"line2d_2\">\n      <g>\n       <use style=\"stroke:#000000;stroke-width:0.8;\" x=\"85.7945\" xlink:href=\"#m1613198722\" y=\"224.64\"/>\n      </g>\n     </g>\n     <g id=\"text_2\">\n      <!-- 1 -->\n      <defs>\n       <path d=\"M 12.40625 8.296875 \nL 28.515625 8.296875 \nL 28.515625 63.921875 \nL 10.984375 60.40625 \nL 10.984375 69.390625 \nL 28.421875 72.90625 \nL 38.28125 72.90625 \nL 38.28125 8.296875 \nL 54.390625 8.296875 \nL 54.390625 0 \nL 12.40625 0 \nz\n\" id=\"DejaVuSans-49\"/>\n      </defs>\n      <g transform=\"translate(82.61325 239.238437)scale(0.1 -0.1)\">\n       <use xlink:href=\"#DejaVuSans-49\"/>\n      </g>\n     </g>\n    </g>\n    <g id=\"xtick_3\">\n     <g id=\"line2d_3\">\n      <g>\n       <use style=\"stroke:#000000;stroke-width:0.8;\" x=\"129.2825\" xlink:href=\"#m1613198722\" y=\"224.64\"/>\n      </g>\n     </g>\n     <g id=\"text_3\">\n      <!-- 2 -->\n      <defs>\n       <path d=\"M 19.1875 8.296875 \nL 53.609375 8.296875 \nL 53.609375 0 \nL 7.328125 0 \nL 7.328125 8.296875 \nQ 12.9375 14.109375 22.625 23.890625 \nQ 32.328125 33.6875 34.8125 36.53125 \nQ 39.546875 41.84375 41.421875 45.53125 \nQ 43.3125 49.21875 43.3125 52.78125 \nQ 43.3125 58.59375 39.234375 62.25 \nQ 35.15625 65.921875 28.609375 65.921875 \nQ 23.96875 65.921875 18.8125 64.3125 \nQ 13.671875 62.703125 7.8125 59.421875 \nL 7.8125 69.390625 \nQ 13.765625 71.78125 18.9375 73 \nQ 24.125 74.21875 28.421875 74.21875 \nQ 39.75 74.21875 46.484375 68.546875 \nQ 53.21875 62.890625 53.21875 53.421875 \nQ 53.21875 48.921875 51.53125 44.890625 \nQ 49.859375 40.875 45.40625 35.40625 \nQ 44.1875 33.984375 37.640625 27.21875 \nQ 31.109375 20.453125 19.1875 8.296875 \nz\n\" id=\"DejaVuSans-50\"/>\n      </defs>\n      <g transform=\"translate(126.10125 239.238437)scale(0.1 -0.1)\">\n       <use xlink:href=\"#DejaVuSans-50\"/>\n      </g>\n     </g>\n    </g>\n    <g id=\"xtick_4\">\n     <g id=\"line2d_4\">\n      <g>\n       <use style=\"stroke:#000000;stroke-width:0.8;\" x=\"172.7705\" xlink:href=\"#m1613198722\" y=\"224.64\"/>\n      </g>\n     </g>\n     <g id=\"text_4\">\n      <!-- 3 -->\n      <defs>\n       <path d=\"M 40.578125 39.3125 \nQ 47.65625 37.796875 51.625 33 \nQ 55.609375 28.21875 55.609375 21.1875 \nQ 55.609375 10.40625 48.1875 4.484375 \nQ 40.765625 -1.421875 27.09375 -1.421875 \nQ 22.515625 -1.421875 17.65625 -0.515625 \nQ 12.796875 0.390625 7.625 2.203125 \nL 7.625 11.71875 \nQ 11.71875 9.328125 16.59375 8.109375 \nQ 21.484375 6.890625 26.8125 6.890625 \nQ 36.078125 6.890625 40.9375 10.546875 \nQ 45.796875 14.203125 45.796875 21.1875 \nQ 45.796875 27.640625 41.28125 31.265625 \nQ 36.765625 34.90625 28.71875 34.90625 \nL 20.21875 34.90625 \nL 20.21875 43.015625 \nL 29.109375 43.015625 \nQ 36.375 43.015625 40.234375 45.921875 \nQ 44.09375 48.828125 44.09375 54.296875 \nQ 44.09375 59.90625 40.109375 62.90625 \nQ 36.140625 65.921875 28.71875 65.921875 \nQ 24.65625 65.921875 20.015625 65.03125 \nQ 15.375 64.15625 9.8125 62.3125 \nL 9.8125 71.09375 \nQ 15.4375 72.65625 20.34375 73.4375 \nQ 25.25 74.21875 29.59375 74.21875 \nQ 40.828125 74.21875 47.359375 69.109375 \nQ 53.90625 64.015625 53.90625 55.328125 \nQ 53.90625 49.265625 50.4375 45.09375 \nQ 46.96875 40.921875 40.578125 39.3125 \nz\n\" id=\"DejaVuSans-51\"/>\n      </defs>\n      <g transform=\"translate(169.58925 239.238437)scale(0.1 -0.1)\">\n       <use xlink:href=\"#DejaVuSans-51\"/>\n      </g>\n     </g>\n    </g>\n    <g id=\"xtick_5\">\n     <g id=\"line2d_5\">\n      <g>\n       <use style=\"stroke:#000000;stroke-width:0.8;\" x=\"216.2585\" xlink:href=\"#m1613198722\" y=\"224.64\"/>\n      </g>\n     </g>\n     <g id=\"text_5\">\n      <!-- 4 -->\n      <defs>\n       <path d=\"M 37.796875 64.3125 \nL 12.890625 25.390625 \nL 37.796875 25.390625 \nz\nM 35.203125 72.90625 \nL 47.609375 72.90625 \nL 47.609375 25.390625 \nL 58.015625 25.390625 \nL 58.015625 17.1875 \nL 47.609375 17.1875 \nL 47.609375 0 \nL 37.796875 0 \nL 37.796875 17.1875 \nL 4.890625 17.1875 \nL 4.890625 26.703125 \nz\n\" id=\"DejaVuSans-52\"/>\n      </defs>\n      <g transform=\"translate(213.07725 239.238437)scale(0.1 -0.1)\">\n       <use xlink:href=\"#DejaVuSans-52\"/>\n      </g>\n     </g>\n    </g>\n   </g>\n   <g id=\"matplotlib.axis_2\">\n    <g id=\"ytick_1\">\n     <g id=\"line2d_6\">\n      <defs>\n       <path d=\"M 0 0 \nL -3.5 0 \n\" id=\"mde12695188\" style=\"stroke:#000000;stroke-width:0.8;\"/>\n      </defs>\n      <g>\n       <use style=\"stroke:#000000;stroke-width:0.8;\" x=\"20.5625\" xlink:href=\"#mde12695188\" y=\"28.944\"/>\n      </g>\n     </g>\n     <g id=\"text_6\">\n      <!-- 0 -->\n      <g transform=\"translate(7.2 32.743219)scale(0.1 -0.1)\">\n       <use xlink:href=\"#DejaVuSans-48\"/>\n      </g>\n     </g>\n    </g>\n    <g id=\"ytick_2\">\n     <g id=\"line2d_7\">\n      <g>\n       <use style=\"stroke:#000000;stroke-width:0.8;\" x=\"20.5625\" xlink:href=\"#mde12695188\" y=\"72.432\"/>\n      </g>\n     </g>\n     <g id=\"text_7\">\n      <!-- 1 -->\n      <g transform=\"translate(7.2 76.231219)scale(0.1 -0.1)\">\n       <use xlink:href=\"#DejaVuSans-49\"/>\n      </g>\n     </g>\n    </g>\n    <g id=\"ytick_3\">\n     <g id=\"line2d_8\">\n      <g>\n       <use style=\"stroke:#000000;stroke-width:0.8;\" x=\"20.5625\" xlink:href=\"#mde12695188\" y=\"115.92\"/>\n      </g>\n     </g>\n     <g id=\"text_8\">\n      <!-- 2 -->\n      <g transform=\"translate(7.2 119.719219)scale(0.1 -0.1)\">\n       <use xlink:href=\"#DejaVuSans-50\"/>\n      </g>\n     </g>\n    </g>\n    <g id=\"ytick_4\">\n     <g id=\"line2d_9\">\n      <g>\n       <use style=\"stroke:#000000;stroke-width:0.8;\" x=\"20.5625\" xlink:href=\"#mde12695188\" y=\"159.408\"/>\n      </g>\n     </g>\n     <g id=\"text_9\">\n      <!-- 3 -->\n      <g transform=\"translate(7.2 163.207219)scale(0.1 -0.1)\">\n       <use xlink:href=\"#DejaVuSans-51\"/>\n      </g>\n     </g>\n    </g>\n    <g id=\"ytick_5\">\n     <g id=\"line2d_10\">\n      <g>\n       <use style=\"stroke:#000000;stroke-width:0.8;\" x=\"20.5625\" xlink:href=\"#mde12695188\" y=\"202.896\"/>\n      </g>\n     </g>\n     <g id=\"text_10\">\n      <!-- 4 -->\n      <g transform=\"translate(7.2 206.695219)scale(0.1 -0.1)\">\n       <use xlink:href=\"#DejaVuSans-52\"/>\n      </g>\n     </g>\n    </g>\n   </g>\n   <g id=\"patch_3\">\n    <path d=\"M 20.5625 224.64 \nL 20.5625 7.2 \n\" style=\"fill:none;stroke:#000000;stroke-linecap:square;stroke-linejoin:miter;stroke-width:0.8;\"/>\n   </g>\n   <g id=\"patch_4\">\n    <path d=\"M 238.0025 224.64 \nL 238.0025 7.2 \n\" style=\"fill:none;stroke:#000000;stroke-linecap:square;stroke-linejoin:miter;stroke-width:0.8;\"/>\n   </g>\n   <g id=\"patch_5\">\n    <path d=\"M 20.5625 224.64 \nL 238.0025 224.64 \n\" style=\"fill:none;stroke:#000000;stroke-linecap:square;stroke-linejoin:miter;stroke-width:0.8;\"/>\n   </g>\n   <g id=\"patch_6\">\n    <path d=\"M 20.5625 7.2 \nL 238.0025 7.2 \n\" style=\"fill:none;stroke:#000000;stroke-linecap:square;stroke-linejoin:miter;stroke-width:0.8;\"/>\n   </g>\n  </g>\n </g>\n <defs>\n  <clipPath id=\"p5e26e434c5\">\n   <rect height=\"217.44\" width=\"217.44\" x=\"20.5625\" y=\"7.2\"/>\n  </clipPath>\n </defs>\n</svg>\n",
      "image/png": "[encoded data removed]"
     },
     "metadata": {
      "needs_background": "light"
     }
    },
    {
     "output_type": "stream",
     "name": "stdout",
     "text": "And the whole sample:\n"
    },
    {
     "output_type": "display_data",
     "data": {
      "text/plain": "<Figure size 432x288 with 1 Axes>",
      "image/svg+xml": "<?xml version=\"1.0\" encoding=\"utf-8\" standalone=\"no\"?>\n<!DOCTYPE svg PUBLIC \"-//W3C//DTD SVG 1.1//EN\"\n  \"http://www.w3.org/Graphics/SVG/1.1/DTD/svg11.dtd\">\n<!-- Created with matplotlib (https://matplotlib.org/) -->\n<svg height=\"248.518125pt\" version=\"1.1\" viewBox=\"0 0 251.565 248.518125\" width=\"251.565pt\" xmlns=\"http://www.w3.org/2000/svg\" xmlns:xlink=\"http://www.w3.org/1999/xlink\">\n <defs>\n  <style type=\"text/css\">\n*{stroke-linecap:butt;stroke-linejoin:round;}\n  </style>\n </defs>\n <g id=\"figure_1\">\n  <g id=\"patch_1\">\n   <path d=\"M 0 248.518125 \nL 251.565 248.518125 \nL 251.565 0 \nL 0 0 \nz\n\" style=\"fill:none;\"/>\n  </g>\n  <g id=\"axes_1\">\n   <g id=\"patch_2\">\n    <path d=\"M 26.925 224.64 \nL 244.365 224.64 \nL 244.365 7.2 \nL 26.925 7.2 \nz\n\" style=\"fill:#ffffff;\"/>\n   </g>\n   <g clip-path=\"url(#p9136b9ff8c)\">\n    <image height=\"218\" id=\"imageb089fa1b28\" transform=\"scale(1 -1)translate(0 -218)\" width=\"218\" x=\"26.925\" xlink:href=\"data:image/png;base64,\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\" y=\"-6.64\"/>\n   </g>\n   <g id=\"matplotlib.axis_1\">\n    <g id=\"xtick_1\">\n     <g id=\"line2d_1\">\n      <defs>\n       <path d=\"M 0 0 \nL 0 3.5 \n\" id=\"m6f1ad774bf\" style=\"stroke:#000000;stroke-width:0.8;\"/>\n      </defs>\n      <g>\n       <use style=\"stroke:#000000;stroke-width:0.8;\" x=\"30.807857\" xlink:href=\"#m6f1ad774bf\" y=\"224.64\"/>\n      </g>\n     </g>\n     <g id=\"text_1\">\n      <!-- 0 -->\n      <defs>\n       <path d=\"M 31.78125 66.40625 \nQ 24.171875 66.40625 20.328125 58.90625 \nQ 16.5 51.421875 16.5 36.375 \nQ 16.5 21.390625 20.328125 13.890625 \nQ 24.171875 6.390625 31.78125 6.390625 \nQ 39.453125 6.390625 43.28125 13.890625 \nQ 47.125 21.390625 47.125 36.375 \nQ 47.125 51.421875 43.28125 58.90625 \nQ 39.453125 66.40625 31.78125 66.40625 \nz\nM 31.78125 74.21875 \nQ 44.046875 74.21875 50.515625 64.515625 \nQ 56.984375 54.828125 56.984375 36.375 \nQ 56.984375 17.96875 50.515625 8.265625 \nQ 44.046875 -1.421875 31.78125 -1.421875 \nQ 19.53125 -1.421875 13.0625 8.265625 \nQ 6.59375 17.96875 6.59375 36.375 \nQ 6.59375 54.828125 13.0625 64.515625 \nQ 19.53125 74.21875 31.78125 74.21875 \nz\n\" id=\"DejaVuSans-48\"/>\n      </defs>\n      <g transform=\"translate(27.626607 239.238437)scale(0.1 -0.1)\">\n       <use xlink:href=\"#DejaVuSans-48\"/>\n      </g>\n     </g>\n    </g>\n    <g id=\"xtick_2\">\n     <g id=\"line2d_2\">\n      <g>\n       <use style=\"stroke:#000000;stroke-width:0.8;\" x=\"69.636429\" xlink:href=\"#m6f1ad774bf\" y=\"224.64\"/>\n      </g>\n     </g>\n     <g id=\"text_2\">\n      <!-- 5 -->\n      <defs>\n       <path d=\"M 10.796875 72.90625 \nL 49.515625 72.90625 \nL 49.515625 64.59375 \nL 19.828125 64.59375 \nL 19.828125 46.734375 \nQ 21.96875 47.46875 24.109375 47.828125 \nQ 26.265625 48.1875 28.421875 48.1875 \nQ 40.625 48.1875 47.75 41.5 \nQ 54.890625 34.8125 54.890625 23.390625 \nQ 54.890625 11.625 47.5625 5.09375 \nQ 40.234375 -1.421875 26.90625 -1.421875 \nQ 22.3125 -1.421875 17.546875 -0.640625 \nQ 12.796875 0.140625 7.71875 1.703125 \nL 7.71875 11.625 \nQ 12.109375 9.234375 16.796875 8.0625 \nQ 21.484375 6.890625 26.703125 6.890625 \nQ 35.15625 6.890625 40.078125 11.328125 \nQ 45.015625 15.765625 45.015625 23.390625 \nQ 45.015625 31 40.078125 35.4375 \nQ 35.15625 39.890625 26.703125 39.890625 \nQ 22.75 39.890625 18.8125 39.015625 \nQ 14.890625 38.140625 10.796875 36.28125 \nz\n\" id=\"DejaVuSans-53\"/>\n      </defs>\n      <g transform=\"translate(66.455179 239.238437)scale(0.1 -0.1)\">\n       <use xlink:href=\"#DejaVuSans-53\"/>\n      </g>\n     </g>\n    </g>\n    <g id=\"xtick_3\">\n     <g id=\"line2d_3\">\n      <g>\n       <use style=\"stroke:#000000;stroke-width:0.8;\" x=\"108.465\" xlink:href=\"#m6f1ad774bf\" y=\"224.64\"/>\n      </g>\n     </g>\n     <g id=\"text_3\">\n      <!-- 10 -->\n      <defs>\n       <path d=\"M 12.40625 8.296875 \nL 28.515625 8.296875 \nL 28.515625 63.921875 \nL 10.984375 60.40625 \nL 10.984375 69.390625 \nL 28.421875 72.90625 \nL 38.28125 72.90625 \nL 38.28125 8.296875 \nL 54.390625 8.296875 \nL 54.390625 0 \nL 12.40625 0 \nz\n\" id=\"DejaVuSans-49\"/>\n      </defs>\n      <g transform=\"translate(102.1025 239.238437)scale(0.1 -0.1)\">\n       <use xlink:href=\"#DejaVuSans-49\"/>\n       <use x=\"63.623047\" xlink:href=\"#DejaVuSans-48\"/>\n      </g>\n     </g>\n    </g>\n    <g id=\"xtick_4\">\n     <g id=\"line2d_4\">\n      <g>\n       <use style=\"stroke:#000000;stroke-width:0.8;\" x=\"147.293571\" xlink:href=\"#m6f1ad774bf\" y=\"224.64\"/>\n      </g>\n     </g>\n     <g id=\"text_4\">\n      <!-- 15 -->\n      <g transform=\"translate(140.931071 239.238437)scale(0.1 -0.1)\">\n       <use xlink:href=\"#DejaVuSans-49\"/>\n       <use x=\"63.623047\" xlink:href=\"#DejaVuSans-53\"/>\n      </g>\n     </g>\n    </g>\n    <g id=\"xtick_5\">\n     <g id=\"line2d_5\">\n      <g>\n       <use style=\"stroke:#000000;stroke-width:0.8;\" x=\"186.122143\" xlink:href=\"#m6f1ad774bf\" y=\"224.64\"/>\n      </g>\n     </g>\n     <g id=\"text_5\">\n      <!-- 20 -->\n      <defs>\n       <path d=\"M 19.1875 8.296875 \nL 53.609375 8.296875 \nL 53.609375 0 \nL 7.328125 0 \nL 7.328125 8.296875 \nQ 12.9375 14.109375 22.625 23.890625 \nQ 32.328125 33.6875 34.8125 36.53125 \nQ 39.546875 41.84375 41.421875 45.53125 \nQ 43.3125 49.21875 43.3125 52.78125 \nQ 43.3125 58.59375 39.234375 62.25 \nQ 35.15625 65.921875 28.609375 65.921875 \nQ 23.96875 65.921875 18.8125 64.3125 \nQ 13.671875 62.703125 7.8125 59.421875 \nL 7.8125 69.390625 \nQ 13.765625 71.78125 18.9375 73 \nQ 24.125 74.21875 28.421875 74.21875 \nQ 39.75 74.21875 46.484375 68.546875 \nQ 53.21875 62.890625 53.21875 53.421875 \nQ 53.21875 48.921875 51.53125 44.890625 \nQ 49.859375 40.875 45.40625 35.40625 \nQ 44.1875 33.984375 37.640625 27.21875 \nQ 31.109375 20.453125 19.1875 8.296875 \nz\n\" id=\"DejaVuSans-50\"/>\n      </defs>\n      <g transform=\"translate(179.759643 239.238437)scale(0.1 -0.1)\">\n       <use xlink:href=\"#DejaVuSans-50\"/>\n       <use x=\"63.623047\" xlink:href=\"#DejaVuSans-48\"/>\n      </g>\n     </g>\n    </g>\n    <g id=\"xtick_6\">\n     <g id=\"line2d_6\">\n      <g>\n       <use style=\"stroke:#000000;stroke-width:0.8;\" x=\"224.950714\" xlink:href=\"#m6f1ad774bf\" y=\"224.64\"/>\n      </g>\n     </g>\n     <g id=\"text_6\">\n      <!-- 25 -->\n      <g transform=\"translate(218.588214 239.238437)scale(0.1 -0.1)\">\n       <use xlink:href=\"#DejaVuSans-50\"/>\n       <use x=\"63.623047\" xlink:href=\"#DejaVuSans-53\"/>\n      </g>\n     </g>\n    </g>\n   </g>\n   <g id=\"matplotlib.axis_2\">\n    <g id=\"ytick_1\">\n     <g id=\"line2d_7\">\n      <defs>\n       <path d=\"M 0 0 \nL -3.5 0 \n\" id=\"m4de0aabab1\" style=\"stroke:#000000;stroke-width:0.8;\"/>\n      </defs>\n      <g>\n       <use style=\"stroke:#000000;stroke-width:0.8;\" x=\"26.925\" xlink:href=\"#m4de0aabab1\" y=\"11.082857\"/>\n      </g>\n     </g>\n     <g id=\"text_7\">\n      <!-- 0 -->\n      <g transform=\"translate(13.5625 14.882076)scale(0.1 -0.1)\">\n       <use xlink:href=\"#DejaVuSans-48\"/>\n      </g>\n     </g>\n    </g>\n    <g id=\"ytick_2\">\n     <g id=\"line2d_8\">\n      <g>\n       <use style=\"stroke:#000000;stroke-width:0.8;\" x=\"26.925\" xlink:href=\"#m4de0aabab1\" y=\"49.911429\"/>\n      </g>\n     </g>\n     <g id=\"text_8\">\n      <!-- 5 -->\n      <g transform=\"translate(13.5625 53.710647)scale(0.1 -0.1)\">\n       <use xlink:href=\"#DejaVuSans-53\"/>\n      </g>\n     </g>\n    </g>\n    <g id=\"ytick_3\">\n     <g id=\"line2d_9\">\n      <g>\n       <use style=\"stroke:#000000;stroke-width:0.8;\" x=\"26.925\" xlink:href=\"#m4de0aabab1\" y=\"88.74\"/>\n      </g>\n     </g>\n     <g id=\"text_9\">\n      <!-- 10 -->\n      <g transform=\"translate(7.2 92.539219)scale(0.1 -0.1)\">\n       <use xlink:href=\"#DejaVuSans-49\"/>\n       <use x=\"63.623047\" xlink:href=\"#DejaVuSans-48\"/>\n      </g>\n     </g>\n    </g>\n    <g id=\"ytick_4\">\n     <g id=\"line2d_10\">\n      <g>\n       <use style=\"stroke:#000000;stroke-width:0.8;\" x=\"26.925\" xlink:href=\"#m4de0aabab1\" y=\"127.568571\"/>\n      </g>\n     </g>\n     <g id=\"text_10\">\n      <!-- 15 -->\n      <g transform=\"translate(7.2 131.36779)scale(0.1 -0.1)\">\n       <use xlink:href=\"#DejaVuSans-49\"/>\n       <use x=\"63.623047\" xlink:href=\"#DejaVuSans-53\"/>\n      </g>\n     </g>\n    </g>\n    <g id=\"ytick_5\">\n     <g id=\"line2d_11\">\n      <g>\n       <use style=\"stroke:#000000;stroke-width:0.8;\" x=\"26.925\" xlink:href=\"#m4de0aabab1\" y=\"166.397143\"/>\n      </g>\n     </g>\n     <g id=\"text_11\">\n      <!-- 20 -->\n      <g transform=\"translate(7.2 170.196362)scale(0.1 -0.1)\">\n       <use xlink:href=\"#DejaVuSans-50\"/>\n       <use x=\"63.623047\" xlink:href=\"#DejaVuSans-48\"/>\n      </g>\n     </g>\n    </g>\n    <g id=\"ytick_6\">\n     <g id=\"line2d_12\">\n      <g>\n       <use style=\"stroke:#000000;stroke-width:0.8;\" x=\"26.925\" xlink:href=\"#m4de0aabab1\" y=\"205.225714\"/>\n      </g>\n     </g>\n     <g id=\"text_12\">\n      <!-- 25 -->\n      <g transform=\"translate(7.2 209.024933)scale(0.1 -0.1)\">\n       <use xlink:href=\"#DejaVuSans-50\"/>\n       <use x=\"63.623047\" xlink:href=\"#DejaVuSans-53\"/>\n      </g>\n     </g>\n    </g>\n   </g>\n   <g id=\"patch_3\">\n    <path d=\"M 26.925 224.64 \nL 26.925 7.2 \n\" style=\"fill:none;stroke:#000000;stroke-linecap:square;stroke-linejoin:miter;stroke-width:0.8;\"/>\n   </g>\n   <g id=\"patch_4\">\n    <path d=\"M 244.365 224.64 \nL 244.365 7.2 \n\" style=\"fill:none;stroke:#000000;stroke-linecap:square;stroke-linejoin:miter;stroke-width:0.8;\"/>\n   </g>\n   <g id=\"patch_5\">\n    <path d=\"M 26.925 224.64 \nL 244.365 224.64 \n\" style=\"fill:none;stroke:#000000;stroke-linecap:square;stroke-linejoin:miter;stroke-width:0.8;\"/>\n   </g>\n   <g id=\"patch_6\">\n    <path d=\"M 26.925 7.2 \nL 244.365 7.2 \n\" style=\"fill:none;stroke:#000000;stroke-linecap:square;stroke-linejoin:miter;stroke-width:0.8;\"/>\n   </g>\n  </g>\n </g>\n <defs>\n  <clipPath id=\"p9136b9ff8c\">\n   <rect height=\"217.44\" width=\"217.44\" x=\"26.925\" y=\"7.2\"/>\n  </clipPath>\n </defs>\n</svg>\n",
      "image/png": "[encoded data removed]"
     },
     "metadata": {
      "needs_background": "light"
     }
    },
    {
     "output_type": "stream",
     "name": "stdout",
     "text": "y_train [shape (50000,)] 10 samples:\n [5 0 4 1 9 2 1 3 1 4]\n"
    }
   ],
   "source": [
    "# X contains rgb values divided by 255\n",
    "print(\"X_train [shape %s] sample patch:\\n\" % (str(X_train.shape)), X_train[1, 15:20, 5:10])\n",
    "print(\"A closeup of a sample patch:\")\n",
    "plt.imshow(X_train[1, 15:20, 5:10], cmap=\"Greys\")\n",
    "plt.show()\n",
    "print(\"And the whole sample:\")\n",
    "plt.imshow(X_train[1], cmap=\"Greys\")\n",
    "plt.show()\n",
    "print(\"y_train [shape %s] 10 samples:\\n\" % (str(y_train.shape)), y_train[:10])"
   ]
  },
  {
   "cell_type": "markdown",
   "metadata": {},
   "source": [
    "# Linear model\n",
    "\n",
    "Your task is to train a linear classifier $\\vec{x} \\rightarrow y$ with SGD using TensorFlow.\n",
    "\n",
    "You will need to calculate a logit (a linear transformation) $z_k$ for each class: \n",
    "$$z_k = \\vec{x} \\cdot \\vec{w_k} + b_k \\quad k = 0..9$$\n",
    "\n",
    "And transform logits $z_k$ to valid probabilities $p_k$ with softmax: \n",
    "$$p_k = \\frac{e^{z_k}}{\\sum_{i=0}^{9}{e^{z_i}}} \\quad k = 0..9$$\n",
    "\n",
    "We will use a cross-entropy loss to train our multi-class classifier:\n",
    "$$\\text{cross-entropy}(y, p) = -\\sum_{k=0}^{9}{\\log(p_k)[y = k]}$$ \n",
    "\n",
    "where \n",
    "$$\n",
    "[x]=\\begin{cases}\n",
    "       1, \\quad \\text{if $x$ is true} \\\\\n",
    "       0, \\quad \\text{otherwise}\n",
    "    \\end{cases}\n",
    "$$\n",
    "\n",
    "Cross-entropy minimization pushes $p_k$ close to 1 when $y = k$, which is what we want.\n",
    "\n",
    "Here's the plan:\n",
    "* Flatten the images (28x28 -> 784) with `X_train.reshape((X_train.shape[0], -1))` to simplify our linear model implementation\n",
    "* Use a matrix placeholder for flattened `X_train`\n",
    "* Convert `y_train` to one-hot encoded vectors that are needed for cross-entropy\n",
    "* Use a shared variable `W` for all weights (a column $\\vec{w_k}$ per class) and `b` for all biases.\n",
    "* Aim for ~0.93 validation accuracy"
   ],
   "execution_count": null,
   "outputs": []
  },
  {
   "cell_type": "code",
   "execution_count": 6,
   "metadata": {},
   "outputs": [
    {
     "output_type": "stream",
     "name": "stdout",
     "text": "(50000, 784)\n(10000, 784)\n"
    }
   ],
   "source": [
    "X_train_flat = X_train.reshape((X_train.shape[0], -1))\n",
    "print(X_train_flat.shape)\n",
    "\n",
    "X_val_flat = X_val.reshape((X_val.shape[0], -1))\n",
    "print(X_val_flat.shape)"
   ]
  },
  {
   "cell_type": "code",
   "execution_count": 7,
   "metadata": {},
   "outputs": [
    {
     "output_type": "stream",
     "name": "stdout",
     "text": "(50000, 10)\n[[0. 0. 0. 0. 0. 1. 0. 0. 0. 0.]\n [1. 0. 0. 0. 0. 0. 0. 0. 0. 0.]\n [0. 0. 0. 0. 1. 0. 0. 0. 0. 0.]] [5 0 4]\n"
    }
   ],
   "source": [
    "from tensorflow import keras\n",
    "\n",
    "y_train_oh = keras.utils.to_categorical(y_train, 10)\n",
    "y_val_oh = keras.utils.to_categorical(y_val, 10)\n",
    "\n",
    "print(y_train_oh.shape)\n",
    "print(y_train_oh[:3], y_train[:3])"
   ]
  },
  {
   "cell_type": "code",
   "execution_count": 8,
   "metadata": {},
   "outputs": [
    {
     "output_type": "stream",
     "name": "stdout",
     "text": "WARNING:tensorflow:From ../../keras_utils.py:78: The name tf.keras.backend.set_session is deprecated. Please use tf.compat.v1.keras.backend.set_session instead.\n\n"
    }
   ],
   "source": [
    "# run this again if you remake your graph\n",
    "tf.disable_eager_execution()\n",
    "s = reset_tf_session()"
   ]
  },
  {
   "cell_type": "code",
   "execution_count": 9,
   "metadata": {},
   "outputs": [
    {
     "output_type": "stream",
     "name": "stdout",
     "text": "WARNING:tensorflow:From /home/dimitry/.local/lib/python3.7/site-packages/tensorflow_core/python/ops/resource_variable_ops.py:1635: calling BaseResourceVariable.__init__ (from tensorflow.python.ops.resource_variable_ops) with constraint is deprecated and will be removed in a future version.\nInstructions for updating:\nIf using Keras pass *_constraint arguments to layers.\n"
    }
   ],
   "source": [
    "# Model parameters: W and b\n",
    "W = tf.get_variable(\"W\", shape = (X_train_flat.shape[1], y_train_oh.shape[1])) ### tf.get_variable(...) with shape[0] = 784\n",
    "b = tf.get_variable(\"b\", shape = (y_train_oh.shape[1])) ### tf.get_variable(...)"
   ]
  },
  {
   "cell_type": "code",
   "execution_count": 10,
   "metadata": {},
   "outputs": [
    {
     "output_type": "stream",
     "name": "stdout",
     "text": "<tf.Variable 'W:0' shape=(784, 10) dtype=float32>\n<tf.Variable 'b:0' shape=(10,) dtype=float32>\n"
    }
   ],
   "source": [
    "print(W)\n",
    "print(b)"
   ]
  },
  {
   "cell_type": "code",
   "execution_count": 11,
   "metadata": {},
   "outputs": [],
   "source": [
    "# Placeholders for the input data\n",
    "input_X = tf.placeholder(tf.float32, shape = (None, X_train_flat.shape[1])) ### tf.placeholder(...) for flat X with shape[0] = None for any batch size\n",
    "input_y = tf.placeholder(tf.float32, shape = (None, y_train_oh.shape[1])) ### tf.placeholder(...) for one-hot encoded true labels"
   ]
  },
  {
   "cell_type": "code",
   "execution_count": 12,
   "metadata": {},
   "outputs": [
    {
     "output_type": "stream",
     "name": "stdout",
     "text": "Tensor(\"Placeholder:0\", shape=(None, 784), dtype=float32)\nTensor(\"Placeholder_1:0\", shape=(None, 10), dtype=float32)\n"
    }
   ],
   "source": [
    "print(input_X)\n",
    "print(input_y)"
   ]
  },
  {
   "cell_type": "code",
   "execution_count": 13,
   "metadata": {},
   "outputs": [
    {
     "output_type": "stream",
     "name": "stdout",
     "text": "WARNING:tensorflow:From <ipython-input-13-08cb96649fef>:9: softmax_cross_entropy_with_logits (from tensorflow.python.ops.nn_ops) is deprecated and will be removed in a future version.\nInstructions for updating:\n\nFuture major versions of TensorFlow will allow gradients to flow\ninto the labels input on backprop by default.\n\nSee `tf.nn.softmax_cross_entropy_with_logits_v2`.\n\n"
    }
   ],
   "source": [
    "# Compute predictions\n",
    "logits = input_X @ W + b ### logits for input_X, resulting shape should be [input_X.shape[0], 10]\n",
    "probas = tf.nn.softmax(logits) ### apply tf.nn.softmax to logits\n",
    "classes = tf.argmax(probas, axis = 1) ### apply tf.argmax to find a class index with highest probability\n",
    "\n",
    "# Loss should be a scalar number: average loss over all the objects with tf.reduce_mean().\n",
    "# Use tf.nn.softmax_cross_entropy_with_logits on top of one-hot encoded input_y and logits.\n",
    "# It is identical to calculating cross-entropy on top of probas, but is more numerically friendly (read the docs).\n",
    "loss = tf.reduce_mean(tf.nn.softmax_cross_entropy_with_logits(labels = input_y, logits = logits)) ### cross-entropy loss\n",
    "\n",
    "# Use a default tf.train.AdamOptimizer to get an SGD step\n",
    "step = tf.train.AdamOptimizer().minimize(loss) ### optimizer step that minimizes the loss"
   ]
  },
  {
   "cell_type": "code",
   "execution_count": 14,
   "metadata": {},
   "outputs": [
    {
     "output_type": "stream",
     "name": "stdout",
     "text": "Tensor(\"add:0\", shape=(None, 10), dtype=float32)\nTensor(\"ArgMax:0\", shape=(None,), dtype=int64)\n"
    }
   ],
   "source": [
    "print(logits)\n",
    "print(classes)"
   ]
  },
  {
   "cell_type": "code",
   "execution_count": 20,
   "metadata": {},
   "outputs": [
    {
     "output_type": "display_data",
     "data": {
      "text/html": "<img src=\"data:image/jpeg;base64,/9j/4AAQSkZJRgABAQEASABIAAD/2wBDAAIBAQEBAQIBAQECAgICAgQDAgICAgUEBAMEBgUGBgYFBgYGBwkIBgcJBwYGCAsICQoKCgoKBggLDAsKDAkKCgr/2wBDAQICAgICAgUDAwUKBwYHCgoKCgoKCgoKCgoKCgoKCgoKCgoKCgoKCgoKCgoKCgoKCgoKCgoKCgoKCgoKCgoKCgr/wAARCAEgA2ADASIAAhEBAxEB/8QAHwAAAQUBAQEBAQEAAAAAAAAAAAECAwQFBgcICQoL/8QAtRAAAgEDAwIEAwUFBAQAAAF9AQIDAAQRBRIhMUEGE1FhByJxFDKBkaEII0KxwRVS0fAkM2JyggkKFhcYGRolJicoKSo0NTY3ODk6Q0RFRkdISUpTVFVWV1hZWmNkZWZnaGlqc3R1dnd4eXqDhIWGh4iJipKTlJWWl5iZmqKjpKWmp6ipqrKztLW2t7i5usLDxMXGx8jJytLT1NXW19jZ2uHi4%2BTl5ufo6erx8vP09fb3%2BPn6/8QAHwEAAwEBAQEBAQEBAQAAAAAAAAECAwQFBgcICQoL/8QAtREAAgECBAQDBAcFBAQAAQJ3AAECAxEEBSExBhJBUQdhcRMiMoEIFEKRobHBCSMzUvAVYnLRChYkNOEl8RcYGRomJygpKjU2Nzg5OkNERUZHSElKU1RVVldYWVpjZGVmZ2hpanN0dXZ3eHl6goOEhYaHiImKkpOUlZaXmJmaoqOkpaanqKmqsrO0tba3uLm6wsPExcbHyMnK0tPU1dbX2Nna4uPk5ebn6Onq8vP09fb3%2BPn6/9oADAMBAAIRAxEAPwD9/KKKKACiiigAooooAKKKKACiiigAooooAKKKKACiiigAooooAKKKKACiiigAooooAKKKKACiiigAooooAKKKKACiiigAooooAKKKKACiiigAooooAKKKKACiiigAooooAKKKKACiiigAooooAKKKKACiiigAooooAKKKKACiiigAooooAKKKKACiiigAooooAKKKKACiiigAooooAKKKKACiiigAooooAKKKKACiiigAooooAKKKKACiiigAooooAKKKKACiiigAooooAKKKKACiiigAooooAKKKKACiiigAooooAKKKKACiiigAooooAKKKKACiiigAooooAKKKKACiiigAooooAKKKKACuN%2BOP7QHwm/Zx8JW/jT4veJ5dPtL7U4dN0u2stLub%2B91K9lDGO1tLO0jluLudlR2EUMbvtR2xhWI7KvFv2u/gP8VPiX4h%2BGfxl%2BBd14fl8X/CrxjPrWmaJ4tu57bTdYhudLvdMubaW4ghmktH8q9aSOdYZtrR7TGyu2ACjpH/AAUr/Y71rxm3w8tvHviCDW7fSodU1bTtR%2BHOvWkmi2EhuAt3qXn2SDTIAbWcNLdmFEKYYqWUGbwn/wAFH/2NfGfg/wAQ%2BOtM%2BLFza6f4Y0e11fVBrnhPVdMuJNPuXMdreWtvd2sU19bzyAxwy2ySpM5CRlmIB86vP2GPjP8AHW0/aRP7Qt74V8My/tB/CPTvBskfgrWLrUzo7RWusWsr%2BbcWtqZ1VNRiZDsXeyygogxuy9Y/Y2/at%2BM%2Btaz8UP2lPh38G9X1e0%2BE6eBtB8E6d4n1QaRrSy6jaXt5fXd2bBJ9PYmyg%2BzxQw3BtnDP50hIwAeyX/7fP7N2k%2BAbH4h6tdeOLSHVPED6Jpeh3Xwj8SR67e3yW5uXjh0dtPGoShYAZTIluUCKzFsA49P8JeOfDfjbwTY/EPRbi5i0rULBbyCTVNPnsZY4iu7MsFykcsDAfeSRVZSCGAIIr41tv2Gf2tJfgpJ4W8feGPCnjS%2Bh%2BIcut%2BC9B1n9ofxXb3fgOxOmxWoi0/xbHp7atcSGUXcreZDGBHeGENsjGfUvB/7Bmq%2BKfgJo3hb9pz46%2BOPEfj5PhtdeFtf8Q6T8Q9at9Muhc2tzbyTPpa3SWN5MiXTBbq4tmmdoopWKuibADc8Mf8FJP2MvF/h7xJ4s0b4tXK6Z4W8GXni6/vr7wlqtpFe6BaruuNU09p7VBqtogK5nsvPQmSMAkyIG4n40f8FdP2YfAf7M/wATf2gfhW%2Bs%2BM7v4b%2BDYfEjeGW8L6xps2r2Nw7R2t3avNYFrixlkRh9vgjmtkVWdnCqSPHfC/8AwSh%2BNC/BPxf8LPFnh3w9J4h/4UL4j8A%2BC/Hmo/tD%2BNvECSXGpWEdp5h0jVUkttGtpDDE8scEl0yeVGqFggz6P%2B1L/wAE5vih%2B0BYeKtE0Pxj4d0q2179le%2B%2BGlrLM87GDVpLiOWGdo1iANqNhBIbzBnhO9AHqkv/AAUU/ZZt/E3hrwJeav41tvEni7TpdQ0HwpefCTxLDq8tnFd/Y5LmSwk08XNvCkxG6SaNEVGWUkRsrmXwN/wUT/Y7%2BJGqarpXhD4tyXB0rQ9Q1lbufw1qVvaapp1iwS8u9NuZrdYdVhhYqHeyedVLqCfmGcXwR8APjz4x/apsf2oPjn4f8HeH5JPg5f8Ag/VNE8J%2BK7vVTBcy6tHcpJDcz6fZl4mgiUsTGjJIdoV1USHwGb9hz9pf4bfs8%2BF/Cnxo1rwIPCP7N3wP8SaB4L1PwrfXcmpeKd2hHTLe4vbeW2ii04JZozSQxS3QknZXDxqgQgH0D4U/4Kl/sL%2BNPBus/ELQ/jLdrouheDj4tutRv/BmsWcdzoIKB9Vs/PtEN/ZxmRBJPbCWOLcPMZc167a/GD4c3vxcuPgVZ%2BIxN4qtPDUGv3emRWsrCHTp55beGd5QnlL5ksE6ohfe3kyEKQjEfFX7I/7P3xC8WfBL4Q/Hb9t/Uvhlovww%2BG/7L9z4fgk07W5wmr6bqmnaWby%2B1X7VBDDpkEVppyq0CS3CZleRplWNVrsP%2BCK3wr8d6P8As76n8evit4tbxFrHjW%2Bg03w54hlgaOS%2B8I6JF/ZWiXBD8/6VDDNqhPd9WcgKCFAB9lUUUUAFFFFABRRRQAUUUUAFFFFABRRRQAUUUUAFFFFABRRRQAUUUUAFFFFABRRRQAUUUUAFFFFABRRRQAUUUUAFFFFABRRRQAV4jpH/AAUY/Y91K716z1P4pXnh5vDnhy58QahJ418I6roMc2k27pHPf2smpWsC31ujyRK0tsZUBljGcuufab2K5ms5YbO6EEzxMsUxj3%2BWxHDbT1wecd6/MTV/%2BCOX7cvxf1bwvrnxu%2BOOhvrfhrwfqFnqHijUPit4m8TjxDrf2zSr611E6XfRQ2Wk20lzpi%2BfYWQCiOTassgVAoB9sv8At/8A7MNr8NG%2BLGseIPFWlaW2uQaNY2eufDLX7DVNTv5kMkMFlptxYpe37SIGdfs8MgZUdgSEYjovAf7VnwP%2BI%2Bv2XhPw54h1SHV7/wAKT%2BJIdI1rwrqWmXaabDd/ZJZZYby3ikgdZ/kMMirL32bea8m%2BJ3wc/bd%2BMTfD342654N%2BFWh/EP4UeOptY8P%2BGbXxxqV/ouuWdxpN3plzHcXz6VDNYzFL2SSN0tbgRmIKfMEjYq/En4Dftwa/8ZfDv7TXgfRvhXaeLL74Yar4L8Y6FqXivUpLDSFuL%2BG6tb%2ByuE04SagYhG6yW8sVoJS4xLFjkA7jSf8Ago3%2ByB4j17wL4W8K/EbVdZ1P4k%2BDdK8W%2BDdO0TwPrN7PeaHqL7LXUZEgtGa1t92PMknEa24ZTN5QYE7Hw1/bc/Zu%2BK/xGufhP4Z8X6tZ6/b6Xc6nDZeJ/BmraIt/Y28iRz3dlLqNrBHfwRvLEHltmkRfMQkgMpPlH7Cn7CXxY/Zh1/4caz488QeGrs%2BDv2UvCPwxv30i5nlZtW0t5muZovMgj3Wrb02MxV22/NGmBXjXw0/4JV/tjeJ/ij4X8TftTfGGz1SLT/AHivwv408TQfF/xJrV54il1exS2/tO10y%2Bhj0/QjlSxtLRSi5UCZxGq0AfUvhP/gov%2ByP410WPxVoPjvXP7DuNV0vT9P8AEt78P9btdK1GXUr2OyspLS%2Bns0tryCW5mijFxBI8IMqFnCsCfS/C3xd%2BHnjX4geKfhd4X8Q/a9c8FyWcfie0S0mC2Ml1B9ogjMrII3doSshRGZkWSMsFEibvmHxx4E%2BIvhX/AIJ7eNPgR/wUM8T/AAq8EeAtB%2BGkWgW3xM8O%2BLbsM06RpbWupPaXVnAmmzLMLeSGCO4umM5REcnaG7X/AIJX/D74seG/2RNK%2BKv7RVglv8TvixfS%2BOviJCtu0X2e/v1jMNpsb5k%2By2MdlZ7TkgWuDQB9G0UUUAFFFFABRRRQAUUUUAFFFFABRRRQAUUUUAFFFFABRRRQAUUUUAFFFFABRRRQAUUUUAFFFFABRRRQAUUUUAFFFFABRRRQAUUUUAFeL/Hrx/8AtF/8NF%2BBfgR8BfGfgrw%2Bmv8AgrxLr2r6n4v8F3etEnTrvQ7eGGGO31Kx8sN/akrMzM%2BfLQALyT7RXhfxF1pbP/gpV8IdFkUYvfgn8Q2Ru%2B6PVvBpx%2BTMfwpNpblwhKo7R7N/dqy9/wAIP/wUL/6Og%2BDP/hh9W/8Amoo/4Qf/AIKF/wDR0HwZ/wDDD6t/81FezUUyDxn/AIQf/goX/wBHQfBn/wAMPq3/AM1FH/CD/wDBQv8A6Og%2BDP8A4YfVv/mor2aigDxn/hB/%2BChf/R0HwZ/8MPq3/wA1FH/CD/8ABQv/AKOg%2BDP/AIYfVv8A5qK9mooA8Z/4Qf8A4KF/9HQfBn/ww%2Brf/NRR/wAIP/wUL/6Og%2BDP/hh9W/8Amor2aigDxn/hB/8AgoX/ANHQfBn/AMMPq3/zUUf8IP8A8FC/%2BjoPgz/4YfVv/mor2aigDxn/AIQf/goX/wBHQfBn/wAMPq3/AM1FH/CD/wDBQv8A6Og%2BDP8A4YfVv/mor2aigDxn/hB/%2BChf/R0HwZ/8MPq3/wA1FH/CD/8ABQv/AKOg%2BDP/AIYfVv8A5qK9mrz74geP/gZ8NBqfjD4%2B%2BOPCnh/TzrUWn2WpeMNUtrSDzDaRyrBHJcsq7yBK%2B0HJCsccHEznCnFym0kurdl97sjbD4fEYuvGjQhKc5OyjFOUm%2ByjFSk3o9Em9Njmv%2BEH/wCChf8A0dB8Gf8Aww%2Brf/NRR/wg/wDwUL/6Og%2BDP/hh9W/%2Baiq//DX/APwTg/6Oi%2BCP/hbaP/8AHaP%2BGv8A/gnB/wBHRfBH/wALbR//AI7XN9fwH/P6H/gcP/kj2v8AVLiz/oXYj/wnr/8Aygsf8IP/AMFC/wDo6D4M/wDhh9W/%2Baij/hB/%2BChf/R0HwZ/8MPq3/wA1Fdh8NPEn7OXxo0KXxT8Hdf8ABPizTLe7a1n1Hw1dWd/BHOqq7RNJAWUOFdGKk5AdTjBFeT/EH9tn9k74Q/Gv4ifCL4seB9Q0O0%2BGngbTvFPiHxbJ8P7%2B40qKyuRfMxa5gtHij8tLInLP%2B8Z2jj3PDKq9MJwqRUoNNPqndfero8XEYfEYSvKjXhKE4uzjJOMk%2BzjJRknqtGk9djqP%2BEH/AOChf/R0HwZ/8MPq3/zUUf8ACD/8FC/%2BjoPgz/4YfVv/AJqKib9pv9lC2m8Nx6x4T17SofFdxDb6Rf658H9bsLRZpr17K3jubm4sEhsnmuFCRLcPE0vmwsgZZomfmdd/bp/Yp8BWhPxJmsbe7a98VrDa%2BG/A%2BrawRZ%2BH9VOm6jdSi303fCkErRCZmXykLsUlmiUTtRidX/wg/wDwUL/6Og%2BDP/hh9W/%2Baij/AIQf/goX/wBHQfBn/wAMPq3/AM1Fd9oEfwY8V3E9p4Xj8MajNbQwTXMNitvK8Mc6eZC7quSokT5lJxuXkZFeH/s/ftVaJ8aPilo3hfXP2btE0Pwx4503XdQ%2BGfiSHVUu59Wt9KvYbWY3dqbSMWLTJPHcwKktxuhD%2BYYXURkA7L/hB/8AgoX/ANHQfBn/AMMPq3/zUUf8IP8A8FC/%2BjoPgz/4YfVv/morjfFn7VWieGvjxqPge3/Zu0O58CeHviJovgPxP41bVUjvLTX9VtLO4tEi0/7IVntc6lpsLzm5RlkuiBE4idqrj9rKy8I%2BF/jr4g%2BMn7L%2BhaTP8GbyJLPTvD%2Btx6lJ4gjuLKK6s1DSWduttPKZo4vLJkRGYEykZIAO6/4Qf/goX/0dB8Gf/DD6t/8ANRR/wg//AAUL/wCjoPgz/wCGH1b/AOaiuT8JfGL4yeNrTxR4H0X9j34cQ/EbwT4ktbHxJoWofEKSPRksbnT1vYL%2BDUV0Z5pg28QGJrOMiWOXnYqyPxvj79vvwn4S/Zy%2BG/7Uun/APwAfD/j/AEmzubfw/rnjiKy8Q391OyAWGi2SafNHrM5DbolWeDzgUIwH3AA9e/4Qf/goX/0dB8Gf/DD6t/8ANRR/wg//AAUL/wCjoPgz/wCGH1b/AOaivKLn9vz4c2X7ZF9%2ByrcfAbws/wDZ%2Bu3mmXNvbeII5PE8UVvoraodXfRPsYK6S%2B0WyXguTvnliQR5fAt/An9u74T%2BOtFvNf8Ajh8IPCPgu2PwmsPiXop0jXo9ba48OXZkVWnVLOEw3asiKYIvPR2mVYZpiGCgHpn/AAg//BQv/o6D4M/%2BGH1b/wCaij/hB/8AgoX/ANHQfBn/AMMPq3/zUV4nF/wUZ8F2/wCz74W%2BJnjX9njwN4I8WeKfHniXw0vhz4g%2BPLTS9L0f%2BxNRvbO6ub/VfscixDNrGoSKGY%2BfdxRKXQNOO7%2BNf7WHg74N618KfBMfwE8PeIdf8fatoUPiaHQ9XiksfDVjqN1DZLei6NqDdq11MEt0McJuUhuJAYxA6gA7H/hB/wDgoX/0dB8Gf/DD6t/81FH/AAg//BQv/o6D4M/%2BGH1b/wCaisjw98Z7uT9oH4q/BLxx%2BzZ4Z0u38A%2BCtL8UaBq9jri3b65Y3s%2BrQKJoDZRiykV9JkO1ZLgFZlJKkFa5P9l/9tX4Y/Gz9ki7/a%2B8e%2BBPhbZ6LDpNneR6b8NfHCeKrlJ7iGN10ycf2faeVqBkmhgW1XzGeWRVBBIBAPQ/%2BEH/AOChf/R0HwZ/8MPq3/zUUf8ACD/8FC/%2BjoPgz/4YfVv/AJqK%2BfPG3/BTrw34A/Z38B/Gbxx%2BzN8P/Cmo%2BLx4pXULPxx8Q4dN0jTrnRLxrWTTo9TXTpRdahclXe2thCnmrBcEOPK%2Bf0jxx%2B1lpfgH4qfDDwXr3wA8D29t8UZNLi0rw9deLUj8Z27XaAzSnQvsBWS3tCSbmZbv91HHK5X5ArAHd/8ACD/8FC/%2BjoPgz/4YfVv/AJqKP%2BEH/wCChf8A0dB8Gf8Aww%2Brf/NRXidv/wAFGvBtv4U1nx14h/Zn8MWmm3Xw38ZeMvh1bweJ4pr7Wrbw5KkV3b38H2JRpkzmWIqEe7CgSrIUeMRv6N8G/jH45%2BPvwBh%2BLPwg%2BCXwJ8U6rd6wttbWvhf4wNqGjR24hV5Hn1KLRN8dwjnYbdLaTqhMgBO0A6b/AIQf/goX/wBHQfBn/wAMPq3/AM1FUPA/jj9qzwd%2B1Z4c%2BCPxu%2BI/w98TaN4m%2BHviHXIZvCvw8vtFurS602%2B0S3RWe41e%2BSWN01SUlQiMGiQhsZB0fgT8SvCH7Qf7Mdr8eNH%2BG1l4eu7uz1AG2tmimFtdWc89tI8FyiJ58Jlt2eKYKvmxMj7V3bQ3xx/ykL%2BF/wD2Rnx5/wCnbwhQB7NRRRQAVwv7RP7SPwh/ZT%2BGs/xe%2BOOt6lpvh61l2Xd9pvhu/wBUa3AjeRpJIrGCaRIlSN2eVlEaBSWZRXdV4V/wUt8M/FT4g/sNfEv4T/Bb4O6z438SeMvCGo6DpekaLqGm2rRS3VrLGs8smo3dtEsKsVDbXaT5htRucAHp3xe%2BMfw8%2BBPgqT4gfE3WZ7PTku7e0iWy0y5vrq6uZ5Vhgt7e1tY5J7maSR1VYokd2J4Brz/xR/wUF/ZI8G%2BBtA%2BJGvfFC4XSPElnf3ljNa%2BF9TuJba1sZVhv7m9hhtml06C0ldYrmW7WFLaRgkzRtxWD%2B0RafGj4v%2BDvAfxN8Lfs3%2BKLfV/h98QNK8UTeCNX1bRUvdVgNtdWtzawyRahJai4gS7aUCWeOJ5IVVZcHePAZ/2WP2uPA3hvXvHGg/s8S%2BIdX%2BKXhD4iaXfeFY/EemRHwlda94gm1TTzdyTXKxS24iuWW8a0a4dZYgYY7hW3AA/QJHSRBJG4ZWGVYHII9a%2BcvhN4q/bv%2BOuj69478L/G/wCEmgaXb/ELxVoel6Vf/B/VL%2B4itdL16/0yFpbhPEUCyyPHZq7MsUa7nICgAV7Bo/wz1jRvgjpvwj0j4j6rpN7p3h610yLxRpMFq15E0MSR%2BfGl3DPCWOzOJI5F%2BY8HrXkn7Dmj3%2BifspXvhzV/FF/rc8Xxp8cWl7q%2BpJAlzqGfHmrRySyi2iiiDyAsWEccaZYhVUYAAOj/AOEH/wCChf8A0dB8Gf8Aww%2Brf/NRR/wg/wDwUL/6Og%2BDP/hh9W/%2Bain6/wDtQf8ABP3wprt74W8U/tEfBzTdT027ktdR07UPF2lQz2s8bFJIpI3lDI6sCrKwBBBBGRVT/hr/AP4Jwf8AR0XwR/8AC20f/wCO1yvHYFOzqw/8Dj/8ke9DhXimpBThl%2BIaaTTVCu009U01QaaaaaabTTTTaaZY/wCEH/4KF/8AR0HwZ/8ADD6t/wDNRR/wg/8AwUL/AOjoPgz/AOGH1b/5qKfoH7UH/BP3xXrtl4W8LftEfBzUtT1K7jtdO07T/FulTT3U8jBI4o40lLO7MQqqoJJIAGTV79qv4l/Cr9lD9m/xr%2B0l4p%2BFy6tp/grw9cardabpGiCa4uViXOxFjjYjJxlyNqLl3KqrMNaVehXTdOalbs0/ybPPx2V5nlc4wxuHqUnJXSqQnTbW10pwg2r6XSavpe%2Bhnf8ACD/8FC/%2BjoPgz/4YfVv/AJqKP%2BEH/wCChf8A0dB8Gf8Aww%2Brf/NRVDSf2s/2P9c8by/DXS/DWvy%2BIbbw4uvahov/AAprXVutPsHju3iluo208NatL9huVijmCSTPGI41d3RWdpn7Tn7MHiaTw7/wiumWCHWfHU3hW9sPEvhLUdH1Gxvo9GutXMLWVzYCZJTa26zKtwtvG8MnmLKzGKObU4S7/wAIP/wUL/6Og%2BDP/hh9W/8Amoo/4Qf/AIKF/wDR0HwZ/wDDD6t/81FUPgp%2B1/8AsL/tBaNN4j%2BG3ibS/wCzovD%2Bn66l/wCIvCN3osFzpd8zLa3sEmo20C3NvI6lBLEXUPhCQxAq7%2B0b8RG%2BFev%2BD/hp8IPgB4a8XeM/G17eJpWl61qq6RYwWtnatcXNzPdJZ3ToB%2B5iVVhctJcR52IHdQB3/CD/APBQv/o6D4M/%2BGH1b/5qKP8AhB/%2BChf/AEdB8Gf/AAw%2Brf8AzUVz2v8A7Unwtg/Yt8Nftf8AhP4KWV4PF48O2%2BjeHdUMFn5F/rF/aafBBd3IjkW3jiubxFmlVZNqxyFFkO1W4q1/bcXxFfWXws8E/szeArz4lJ4u8QaB4i0a%2B8crbaFp0%2Bj2tvd3OzVBpryTs0F5aOkZtI2%2BabzPKEDmgD1b/hB/%2BChf/R0HwZ/8MPq3/wA1FH/CD/8ABQv/AKOg%2BDP/AIYfVv8A5qK8C17/AIKofBR9c%2BGg8BfArwtfaX8SfB3hTxFokGu%2BJYNO1rWYdcvGtlttFsBaTLq9xZhRLdoJ4RCksR3MHyPXNK/ag%2BGmu/tvS/skaR8FdLk0e08D63rF94/kmhS3j1LS7nRo7vTUgMP7wRxa3ayPcCQKjh4dpdJPLAOh/wCEH/4KF/8AR0HwZ/8ADD6t/wDNRR/wg/8AwUL/AOjoPgz/AOGH1b/5qKxP2Of2jvAv7Xt78QZ9N%2BA1loOleEvFNvp/h/ULoxSvr%2BnXGm2l/ban5Xkp9mSaK6V0iLO3llGYozNEntngwbNDMCk7Ib67iiBOdqJcyKq/QKAB7CgDy7/hB/8AgoX/ANHQfBn/AMMPq3/zUUf8IP8A8FC/%2BjoPgz/4YfVv/mor2aigDxn/AIQf/goX/wBHQfBn/wAMPq3/AM1FH/CD/wDBQv8A6Og%2BDP8A4YfVv/mor2aigDxn/hB/%2BChf/R0HwZ/8MPq3/wA1FH/CD/8ABQv/AKOg%2BDP/AIYfVv8A5qK9mooA8Z/4Qf8A4KF/9HQfBn/ww%2Brf/NRR/wAIP/wUL/6Og%2BDP/hh9W/8Amor2aigDxn/hB/8AgoX/ANHQfBn/AMMPq3/zUUf8IP8A8FC/%2BjoPgz/4YfVv/mor2aigDxn/AIQf/goX/wBHQfBn/wAMPq3/AM1FH/CD/wDBQv8A6Og%2BDP8A4YfVv/mor2aigDxn/hB/%2BChf/R0HwZ/8MPq3/wA1FH/CD/8ABQv/AKOg%2BDP/AIYfVv8A5qK9mooA8Z/4Qf8A4KF/9HQfBn/ww%2Brf/NRR/wAIP/wUL/6Og%2BDP/hh9W/8Amor2auR8a/tA/Ab4bSPF8Rfjb4R0Bov9YuteJLW1KfXzZFxUTqU6Ueackl5tL82jow2DxeNq%2Bzw1OVSXaMZSf3RjJ/gcP/wg/wDwUL/6Og%2BDP/hh9W/%2Baij/AIQf/goX/wBHQfBn/wAMPq3/AM1FY/ib/gqf/wAE7fCbsmq/tfeCpSnX%2BzNT%2B2j8Dbh8/hXG3f8AwWz/AOCdck7WXhL4u6x4kuV4Nt4f8EarOxPoC1uqn8DXBPOcopu0sRBf9vx/Rs%2Buwvhr4iY2PNRyfFNd/YVUvm5Qgl82j0r/AIQf/goX/wBHQfBn/wAMPq3/AM1FH/CD/wDBQv8A6Og%2BDP8A4YfVv/morzH/AIe6eA9U/wCRE/Ys/aP8TK3%2Brl0X4Tysje%2BZJkwPfFH/AA8m%2BO%2Bp8%2BF/%2BCWnxzlB%2B5/aum2tiT9Q8hxWf9uZW/hqX9Izf5U/1Or/AIhbx3H%2BLhFT/wCvlbC0/wAJ4pP74o9O/wCEH/4KF/8AR0HwZ/8ADD6t/wDNRR/wg/8AwUL/AOjoPgz/AOGH1b/5qK8x/wCG5P8AgoBqvHhP/gkd4pmJ%2B7/bHxO0qw/PerYo/wCGmP8AgrPqfNl/wTH8N6ZnoNS%2BNFjMV%2BvlR80f2zhH8Maj9KVT/wCRQf8AENeIo/xa2Eh/ix2DT%2B5V5v8AA9O/4Qf/AIKF/wDR0HwZ/wDDD6t/81FW/wBlb4jfGnxhrHxQ8CfHTX/C%2Brap4B%2BIUWh2eq%2BE/DVzpNvdWsug6Pqas9vcXt4yyLJqMqFhLtKxodqnOfJ/%2BFzf8Fi7jmH9i74WW%2BeguPiM7kf98pXQf8E7NW%2BM2ua58edU/aC8J6Nofi%2BX4zQf2vpWgX7XNpBjwj4bEXlysAWzCI2PozMO1dGGx9PFTcYwmtL3lCUV976%2BR4%2Bd8KYvIsKq9XFYaom%2BXlo4inWktG7uMNVHTWV7XaXU%2Bk6KKK7j5cKKKKACiiigAooooAKKKKACiiigAooooAKKKKACiiigAooooA5r4xSfE2H4ZaxP8HNa0HTvEsVrv0y98TaVNfWMRVgXMsEE9vJKPLD4VZY/mK5bGa4r4CfFH4wftDfsR/D/AONfh%2B58NaP418cfDjRNcaW80q4uNLs7y8soLiU/ZluEmkiUyPtj89WICgydWrvfiZ4O1T4g%2BA9T8F6N8QdZ8K3Go2/kp4g8Pw2cl5ZgkFmiW9t7i3JIBU%2BZC4wxwAcEeS%2BEv2Gp/Bn7JafseaT%2B1v8AFddBtfBCeFdK1%2BGfRLbWNNsY0SKJ4Li20uNVmSBBCspQnaS5zLiUAGt%2Bxp8bviL8bfCni%2BT4i3Xh/VJfCvj6%2B8O6f4t8J6bPZ6Z4jitooDLdW8E89w8QiuZLmydfPlBmsJSrYIUeQ/Fb44fCzxR/wWM%2BBHw68EfE3w/rGtaN8NPiPY%2BJtH0rWYLi60mR5fDM0aXUUbl7dmFu5USBS2xsZwa%2BhP2cvgbH%2Bzl8LbH4R6f8R9a8SaZpKpBora1puk2h06zSKOKKzhj0qys4FhQJlcxl8u2XICqvzl%2B2Fq50v/gsZ%2BxnAWwt94Y%2BKFux/wC3HRnA/NBXNi58lHm84/jKK/U9vh7D/Wsz9n/07rP/AMBoVpf%2B2n2RRRRXSeIFFFFABRRRQAUUUUAFFFFABRRRQAVxPiv4RfCf40Qav4W%2BMXww8O%2BLNMt/EEV1Bp3ibRYL%2BCOdbKFFlWOdGUOFd1DAZAdhnBNdtXk/x3/at%2BAX7H3hrUfiX%2B0X49/4R3RL7xXDplre/wBl3V3vun09JVj2WsUjjKQyncVC/LjOSAccRPD06EpV2lBLXmta3nfS3qNY%2BWVP63Gs6Tp686k4OPS6kpRcd91Jb76if8MD/sK/9GWfCX/w3Omf/GKP%2BGB/2Ff%2BjLPhL/4bnTP/AIxXkn/D83/gll/0dF/5ZOuf/IVH/D83/gll/wBHRf8Alk65/wDIVeL9e4V/5%2BUP/Kf%2BRp/xFLE/9D2f/hZV/wDmg%2Bkvhp8IvhP8F9Cl8LfB34YeHfCemXF211Pp3hrRYLCCSdlVGlaOBFUuVRFLEZIRRnAFeK/tK/sL%2BK/jx4u%2BJWp%2BH/jPpuhaP8VfhfYeEPEunXvhCS%2BuIWspdTktru2nW9hVBnU5BJE8Um8RJteMlifSf2aP2rfgF%2B2D4Eu/iX%2Bzp49/4SLRLHV5NMur3%2By7q02XSRRStHsuoo3OEmiO4KV%2BbGcggY/xK/bL%2BGHwr8WeJfAviXQdefWPDkvhiOPT7W1gaTVv7fv307T2tN0yhwbuKaJy5j2eS7H5AGPtYeeHqUIyoNODWnLa1vK2lvQzePlmr%2BtyrOq6mvO5Obl0u5OUnLbdye2%2Bh5V%2B19/wTHl/as%2BPVv8AGW5%2BKXh2zihl8MTW8ev/AA7TWNS0eTR9WOoEaTevdxjTUu8iK42wu7hQQ4wFGx4d/wCCdi6Druq62fi%2BJv7T0H4mab5f/CPbfK/4S7xFDrO/P2g5%2ByeV5G3jz92/MWNh5r49f8FY/h34O8N/HvwN8NNKt4/iX8I/hL4t8X6Tpmt61pOoWmoHRYfnM0Ol6lNdWyedLa5hultJnSY7BlJPL7zVv28NB8P/ABH8SfCnTfh14r8a%2BJdP%2BIFz4f0vwz4T0azgujDbaJpmqXVyZbzUEhlhiXUYQZWaB2eeOFIHZRJLsI9U%2BDPw%2B8R/CzwJpHw71PxTZapYaD4f07TNNkg0l7aY/Z7ZYZJJWM8ivvZAyqqpsB2kyferxz4O/sK%2BOfg/41s/EFl8dNM1DTPBWheItN%2BEWjXXgx1GhDVruK5ZtQkW%2BB1MW4git4ljFmfI8wOzyMJl7L9iD9pHVP2nv2Zfh58XfFmjmz1zxb4B03xFqMVjol5b2EZukJ2RSTBlDAq2YTI0qAqXADKT534J/bG%2BNmvfHnQZdW03wsPht4x%2BMXiT4baDp9vptyutWd/o9pqkr6jPdNcmGWGWfRL%2BIW626Miy27mV/nUAG54o/Yb8QeI/jpf%2BN1%2BMltB4H8QfELRPHninwZ/wjBa7vPEGlWlnb2skN/8Aagtvak6bpszwG3kdpLUkTKJXFY97%2Bwf8YPHGt/HW2%2BLf7Q/hq98PfGa0QW1n4a%2BHVxp2o%2BH7q3t4LaxuVup9VuorkwxwI7KbdBJMAw8tAYjH%2B01%2B2N8bfhX8U/GL/DzTPCzeDfhNovhvU/HdtrOm3M2o6xHql9cRTR2M0dzHHaNbWtv54aSK4E8koixCFMh2b34pftc2X7ctj%2BzvY/EX4can4a1DwXrfiW/WL4dX8F94ftluIbXSY5rg6y8d0800sxO2CESJp1xt8osuADmfiP8AsAftEfEb4b%2BLdFvv2s/Dtv4n%2BI/i%2BwvviPqkPw0uk0zVtDtLFLVNBhs49YS4tbeXy1eaUXjySCa5QbElVY%2Bw%2BOv7K/x/%2BOvwQ/4Z01H47%2BBtD8Ka14T/ALC8ZQaF8K7iK4aNtyPJpLtqzJpbCEqsXmR3ZheNZFOQFHletftm/tf/AA40/wCMN1408W/C/WNJ8A%2BOfCvhG08dWXgLUdM07R7q%2BNvLq1/qED6vcmezsra/sWLJNbgSLcLJJGqM6Hww/b9%2BP/7SjaF8IP2dNf8Ahtd%2BNJbrxo%2Bo%2BNL3QL648PapZ%2BH7jTIElsraO%2BSVBeHWtNdZDczJEnnMpuVCMwB6NZfsI%2BKYf2gbb4j3vxus7jwjY/FO6%2BIVl4fPhIjWF1efTJdPaF9V%2B1lWs1SZysQtVlCLHEZjEuw4PgT/AIJXfCm51XxV4h%2BPFv4VvrzxKmnIIfhH4WuvAdvbNZ6gNSW83WGoSXT30l5HbyyXH2gZ%2BxwBUTa5k84s/wDgqz8WfG3xA%2BGmpeCvB%2Bjab4W8daT8OtRh0rU/Cuo3j3Ft4mePznm12CdLDRpbaOQ%2BTa3kTS30kSxwZa4jA7f4p/tr/tF/BX4yfEv4c3tl4Y8XL4Z%2BEPifxpokEvgrUvCcUM%2Bni1ezsTqWpXktrrEcqXRWe6sxHHaNCPOEfnoigE/gj/glzD8GvDWgXHwY%2BNDjxd4V%2BKHizxboHiD4h2epeKLeKHXprwz2LwXeqLOdsFzEpnjuYmlmgaeRWa4nV6l9/wAEa/gC/wAP/AXhnR/iF4407WfBtx4T/tDXdO8c63ZRazb6HPHLFE1hZX8FpAzBZFjkSPdb%2BbuTJUVxug/8FLfjtd%2BB9Qk1/wAS%2BB9Hit/iVpXh%2B8%2BJ3jH4Z614a0/w5YXeiT6ib3U9C1K/S9giNxDFYxXEtzBDNJfRup2xsH6PV/28v2g/Ef7C0H7bvws134eGDR/7Y0298Laj4W1CafxrrlhrFzpMVjpUq30TWJvrm12W4liu3DXcQZW2HcAetaX%2Bzf8AtE6b%2B2D4y/aVHx78FtovinwTp/hq28L/APCs7r7VZQ2E2p3FnK16dXKTOJ9UmMo%2BzIJI440URHdIcK0/4J7WXxL8W%2BKviJ%2B1v8QofFOt%2BJYvDsUbfDi21TwXBYLok1/PYzRtaapNdm5EuozlpTdbdscCqi%2BXlr/xo%2BK37U/gX9rr4YfCzwV448AX3hv4ga9dte%2BHLzwHff2rpeh2GnNNfXp1BNWELt9razt0/wBDAU6hECG2Fm4v9nz9sX9pb4zX3hc6xJ4I06y%2BMnwn1nx18LZrTwtfXMvh63srrTUjt9SjF8Dqcklvq9pL/o/2TDwzR4OUegCt4S/4Ja%2BJfg/4H8OeHvgf%2B0iYdR0S28aWF3dfEPQr7xTaXlj4i1CC7mUQXeqLJFcQi1gjWXzmjk33LSQu1wxHbXv7FHxIuvD3w6%2BCq/HvTR8MPhveeFrvS9Lk8Gyv4juJdCNtJbiTVzf%2BUElmtUM22zDvFJNFvAkJrzn4aft0/tMfFu00/wCFXhKTwja%2BMNX%2BMGoeE9P8XeIfhzq%2BmWqabZ%2BH01ea9uPDt3fR6haTmV/saW89zGZEKXikxSRxvU0D/goj8cvE3ib4d6z4qu/Dnw98Gaz4Us5vFniDU/hXrmu6f/bw1i502809NWtruC00qLfbjyprwNnzkJB%2B4QD0zwv%2BwhqOgftCeJ/2nf7d%2BG1n4rvdG1iw8L3Hhv4SDTkSS/lic3mslb95dauEFvDGGElqpRrjCqZspieN/wBgz9onxh4B%2BIsFl%2B1roWieNPipr2ly%2BMtf0P4b3Ntp8ukWdutu2nwWkeri5gluIl8uW8F6ZtjFY/KKxNHL8Mv269S%2BKf7Y%2Bt/B%2BD4g%2BG9C8N6L41vvCVjomoeAdWmvdd1G0083Ewj1sTx6dazhxI66eY5rh7a2abKiUeXvfsqftG/Gnx7%2B0R8RP2e/i3qOi6w3grStNuk1/S/hzqvhPfcT3N9BLBHZ6pdXMl9bj7Ijx6jbubWXzGRCzRsaAPS/CXgvXPhx%2BzvH4A8Q3HhuSfRfDc1lGPCHhp9H0yKCONlhit7J7m5NvGkQjQL5zj5CRtBCrynjj/lIX8L/APsjPjz/ANO3hCvUvHP/ACJOsf8AYKuP/RbV5b44/wCUhfwv/wCyM%2BPP/Tt4QoA9mooooAKKKKACiiigArwX9j//AJN61f8A7L345/8AVgarXvVeC/sf/wDJvWr/APZe/HP/AKsDVaAOs1/9ib9jLxXrt74p8U/sj/DHUtT1K7kutR1HUPAOnTT3U8jF5JZJHhLO7MSzMxJJJJOTVT/hgf8AYV/6Ms%2BEv/hudM/%2BMV534/8A%2BCyn/BNz4X%2BO9b%2BGnjr9o77Drfh3V7nTNYsv%2BEQ1iX7PdW8rRSx747Rkfa6MNysVOMgkc1kf8Pzf%2BCWX/R0X/lk65/8AIVeDPG8MKbUp0b3d7%2BzvfrfTe97mn/ETcTQ/dLPJx5dLfW6qtbS1vrCta1rWVrWsrWXs2gfsTfsZeFNdsvFPhb9kf4Y6bqem3cd1p2o6f4B06Ge1njYPHLHIkIZHVgGVlIIIBByK1v2mvgnZftJ/s6eO/wBnvUNfl0mHxv4R1DQ31WCASvZ/ard4RMEJAcoXDbSQG24yM5rxrwD/AMFlP%2BCbnxQ8d6L8NPAv7R327W/EWr22maPZf8IhrEX2i6uJViij3yWiom53UbmYKM5JA5r3H46/GHw5%2Bz78HvEfxv8AGWmajdaN4V0qXU9ZTSoUknis4hunmCu6BljjDysM52xttDNhT6GBrZbWhJ4OUGk9eTltfz5UtbdyZcSVOJP3s8a8TyaXdWVXlvra8qlS197Jq%2B9up5H4i/Ym%2BIXj/Qfi7L49%2BPtrF4k%2BLfw703wzfa14T8KzabDpslmNRC3MUUl9PIyOL8BojMDiJsSDzBs4b4I/8EpovhF4ih8TQ/EnwhYbfi4PHL6D4C%2BF8egaRAw8I3nhw2dtapeSmEN9qF20rPIzOjKR84dPRfjP/wAFEPg78FtL8Xa5qnhvU9QsfBXi2z8N6xqI8QaDpVo9/cabFqISG41fUrOGTZBPAGAffvmCor7JCnI2v/BR3SfFPj6O/wDBNxaXHgLXPBnwk13wjqsWhST3l1/wmHiDVtNKzI93CscYis7MqwBeBpJnZLnCwV3EnV/A39ijxD8Ao/Al34R%2BLllc3/gb4G6V8OreXUPC7tDd/Y5IGN80aXasu9YWAhDnYXB8xtu1us/aN%2BAXjj4qeIPB/wATPg/8T9O8I%2BM/BN7ePpWqa14afV7Ge1vLVre5tp7VLq1dwf3MqssyFZLePO9C6N5h4N/4KNH4mftFeD/BHhD4P%2BJrLwD4j8FeLNftPFmqaEs7eIYdJuNOhjn0uOyuZpzG/wBqlbyp7dJ5g0DQoQTn0n9qT40fED4e6N4F8LfBxNIh8UfEnxvb%2BHdC1DxPpc9xZabmyvNQnuZ7WOa3lm22thcBYhLETIyAsozQBT8O/ssax4C/Zdtf2VvBninwvqGh6Z4HsNCsf%2BE78EtrEd5PHuF3c6hAt5BHdx3CbcwIIdjmRt7q6onndn/wTXi8N/s8v8F/CN78JHvNW8ZTeJPEc/ib4Hw6joyXbwJbxHTNJF/FHpxt4IbaKAvJcbUg%2BcSs7Oeh0r9rr4pv%2BwT41/aPf4d2WseOPAv/AAlemX2iaPDcCz1DU9D1K%2B02WaGMGSdbeWSyM4iBklWN9mXcZPJ/BH9sz4j/AB68H/EzR/BX7TXwgur/AOGGoWV3qHxS0vwNe33hnUdHn083TNHbJrKsksMiTxvIt7NGPIOVDs0cQAzWv%2BCWa2Wj2nwx%2BGHxvj0nwHP4J8JeFvEOka14W/tHVJLPw/cyT20ljfi6hWxmlMrGR3guAJP3saxuSTp6t/wSS/Zn1H43w/E6DVPGcfh%2B68FeNtA8R%2BCZviV4jms9SbxLc2M97NGH1LZaIfs92XghjVZJbuKfKS2cDDlPGf7Tv/BQLTP%2BCeXgj9qnT/EPwt0rx34o0XTBB4N1f4ZanPHqWr6zew2%2BkWa7Ncjey/4%2B7VLgMbkowmcEKu2rvjP/AIKH%2BN/hz%2B2EPgn411/wTZ6cPido3gy18EvpN0viTVYNQ062lj8RwTfavKWwF7c/ZSn2d0BgkBuhMRAAD1X9lX9h/wAEfsmfEb4k%2BOvBnjvxZqsPxB1bT7uOw8TeMdY1c6bHa6db2Yj83Ub25Mzs0LP5uEcI8cPKQx49Z8H/APIJm/7Ct9/6Vy1qVl%2BD/wDkEzf9hW%2B/9K5aANSiiigAooooAKK5P4p/Hj4J/A7S/wC2fjJ8W/Dnha2Klkk17WYbXzB6IJGBc%2Bygk189an/wWJ/Zp1/UptC/Zw%2BHvxL%2BMV7C5SUfDjwNc3MET/7c04iUL/tLuGPWuLE5lgMJLlrVYp9r3f8A4Cry/wDJT6fJuCuLuIaLrZdgatSmt58vLTXrVm6dJfOp/kfWNFfJH/DVH/BUX4ony/g//wAE59K8I2sn%2Bo1r4n%2BP4QOf79najzlx9TQP2ff%2BCuPxP/f/ABI/by8D/D6N/wDXab8Nfh0t%2BpH91bjUWEif7w5rm/tZVP4FCpP/ALc5V983D8j2v%2BIfTwmuaZpg8N5Ouq8//AMLDEO/rNeZ9b1yXxJ%2BPvwM%2BDdu118W/jJ4W8MIq5J1/X7e0J%2BgldST7DrXzsf%2BCUsnjT5/j9%2B3l8ePGiN/r9L/AOE1/s7TpfXNvbxjH4OK6z4bf8EmP%2BCdvwuuFvtD/Za8PajdBt73XifztXd36lz9teVc554A9qPrGc1fgoRh/jnf8IR/9uD%2ByfDXA64nNa%2BIfbD4XkX/AIMxVVff7J%2BhheJP%2BCzH7A2m6q/h7wT8S9X8b6pH107wP4UvtQdvTa6xCJs%2Bz1QH/BSz44eNefgf/wAEv/jZq6N/qZ/F1jbeHopfQhp3f5T64r6m8NeE/CvgvS00Pwd4Z0/SbKP/AFdnplkkES/REAA/KtCj6rm9T%2BJiVH/BTX5zlJ/gH9u%2BHmD0wuSzrPviMXUf3ww9KjH5c%2BndnySfjN/wWO%2BIPyeD/wBjL4WfD7f92Xx58Qn1UR/7w01QT%2BFB/Zq/4KufEzj4n/8ABQjwx4Ltn/1%2BnfDb4dxzFh/dW5vWEkf%2B8Bmvraij%2ByVP%2BNXqT/7f5V90FD8w/wCIg1MN/wAi7K8Fh%2BzWGVaS/wC3sTUr/wDpB8kj/gkH8LPGA839oX9p742fEp5P%2BPi18S/EOeOzPqEhtxHsX2DGuv8ABP8AwSc/4Jy%2BAI0i0P8AZH8J3Aj6HW4JNTJ%2Bpu3lz%2BNfQ9FXDJcppy5lQi33a5n98uZnNivEzxBxdL2Us0rRh/JTn7GH/gFBUI/h8zifDP7NH7OPgpFj8G/ADwTpKp9xdM8KWcAX6bIxiuytbO0sIFtbG1jhiX7scSBVH0AqSiu%2BFKlSVoRS9El%2BSR8jisfjsdPmxNadR95zlJ/fKUn%2BIUUUVocoUUUUAFeM/sv/APJb/wBo7/ss1j/6hXhevZq8Z/Zf/wCS3/tHf9lmsf8A1CvC9AHs1FFFABRRRQAUUUUAFFFFABRRRQAUUUUAFFFFABRRRQAUUUUAFFFFABRRRQAV8Kf8FFtT/sX/AIK0fsQ6nuxm48c2uf8ArtDosWP/AB6vuuvzz/4K56n/AGJ/wUl/Yc1TdjPjjWLYn/rtfeHov/Zq83N5cmXzl2cf/S6Z9r4d0PrXGGHo/wA0a6%2B/C4v/ACP0Mooor0j4oKKKKACiiigAooooAKKKKACiiigArK8P/wDIW1z/ALCif%2BklvWrWfe%2BGNIv7t7%2BQXMUsgAke1v5oN%2BBgFhG6hiBxk84oA0KKy/8AhD9J/wCfvVf/AAeXf/x2j/hD9J/5%2B9V/8Hl3/wDHaANSvKfir%2Bx58KvjB%2B0b8Pf2nPFF/rMWufDkXn9n6fY3caWGqGaMrEb6Jo2af7MzSSwbXTy5JGb5uMehf8IfpP8Az96r/wCDy7/%2BO0f8IfpP/P3qv/g8u/8A47QB81ah/wAEkvghrGl%2BIfDOsfGj4k3Oh638PfGfgzTtCfUtNW20HS/E80U2pfZNliJHmEkKGOa5e4ZeQ5kGAO18VfsE%2BAdZ8far8WfCXxY8b%2BEvFmqeM7nxEfEXh27sDPbNc6TYaVc2UaXVnNEbWWDTbR2V43kWWMOkiEKF9g/4Q/Sf%2BfvVf/B5d/8Ax2j/AIQ/Sf8An71X/wAHl3/8doA5P9nL9njw/wDsxfCvwt8FfAfjXxBfeG/CHhOy0HSLHW5raZvLtgyrcySpAkkk7qVVyW8siNSqKxZm5fQP2Hvh14d%2BOa/Gqz8e%2BK5Le08Saj4k0TwVNdWh0bSNdv7WS1vNUt1FsLnz5Yri7BSSd4Va8uGWJWkJr1T/AIQ/Sf8An71X/wAHl3/8do/4Q/Sf%2BfvVf/B5d/8Ax2gDyH4kfsH%2BBPir40s/Gvi34s%2BNWebStE0/xvp9tPp8Vr41j0m7e7sjqSLZ5UrPLMz/AGM2qyrK0UgaILGvoHhD4IeFPB3xk8ZfHS11DUbvXfG1rpdnfvfSxtHZ2enxzLb2tuFRSkQkubuchy5Mt1KchSqrvf8ACH6T/wA/eq/%2BDy7/APjtH/CH6T/z96r/AODy7/8AjtAHD%2BEf2ZdO%2BHPwb1f4S/DH4seK/D93rXiTUdevPGdn/Z8%2Brfbr7UpNQuZP9KtJbVgXlaEK8DKkO1FA2Kw4zVf%2BCePw9n8J6LpnhX4zfEDw54l0i51ua5%2BIei39h/beqnWHWTVFuXns5bcrcSRwPiKCPyTawCDyViRR7X/wh%2Bk/8/eq/wDg8u//AI7R/wAIfpP/AD96r/4PLv8A%2BO0AeGzf8E1/ghba5Zr4S8ZeLvD/AIShk8NS6l8OtIvLQaNqsugi3GlvMZbaS7Tyls7NWWC4iSVbWNZFcbw1vxt/wT%2B8DfF7UNcuvj58afH3ju21XwprPhzTdO1u6061h0Kx1Tyxdi0On2VtI0pWGFEmuHnkQR/KwLyF/Z/%2BEP0n/n71X/weXf8A8do/4Q/Sf%2BfvVf8AweXf/wAdoA8n8NfsZ6l4TsvEmq6R%2B1l8Th4z8V3FgdX%2BIs0WgSao1rZRyR29kkLaUbBIF86ZuLXzC0zsXJII5/xH/wAE3vBl7c/Dm48C/tD/ABI8Ir8MYb%2BTQoNJfRb2O51K9dnutYuU1TTbsS6hI0tx/pA2lftdxtC%2Bc%2B73j/hD9J/5%2B9V/8Hl3/wDHaP8AhD9J/wCfvVf/AAeXf/x2gDAj%2BB3hX/hfw/aOvdT1K712HwYPDNhb3EsZtbK0a6%2B1XEkSLGGWW4dLYSksVK2VuFVCrF/Nvh3/AME/fBXwp1C61TwL8b/H9nPa%2BHrzQvAbNcaZKPAumXd5DeXFrpivYlWjaW2tB/pouiI7WGMEIu0%2B0f8ACH6T/wA/eq/%2BDy7/APjtH/CH6T/z96r/AODy7/8AjtAHij/8E%2BPB7ae%2Bsr8eviGnjyTxwPFh%2BKazaT/bQ1H%2By/7IwIjp/wDZ4g/s/wD0fyPsnl4/ebfOxLUuvf8ABP8A8Eaz8L9A%2BAVp8avH2nfDnR9CtdK1TwHZXOmtaeIYoZjK731zNYvfGSdjidobmHzBnIBZi3s3/CH6T/z96r/4PLv/AOO0f8IfpP8Az96r/wCDy7/%2BO0AeUXn7DHw7uvjOfi5H8Q/F0Fn/AMJZJ4ri8FW9zZLpEXiB7BrA6ov%2Bi/avN8lmbyjcG380%2Bb5PmfNW18G/2X7b4W/EXU/i94t%2BNXjP4g%2BKdR0S30ZNb8ZHTY3stPilkmFvDFptlaQgNLKzu7RtIxCAvtRQO9/4Q/Sf%2BfvVf/B5d/8Ax2j/AIQ/Sf8An71X/wAHl3/8doATxz/yJOsf9gu4/wDRbV5d44/5SF/C/wD7Iz48/wDTt4Qr1E%2BDNDfCztfTJkExXGrXMiN7MrSFWHsQRXl3jj/lIX8L/wDsjPjz/wBO3hCgD2aiiigArjvjx8bPDX7P3w6l%2BInibSNT1TdqVjpmmaLokMcl7qmoXt1FaWlpAsskcfmSTzRrukdI0BLu6IrMOxry/wDa3%2BDfjP4z/DCwsfhreaZF4m8NeMNF8S6BHrc8kVldXGn38NybWeSKOR4kmjSSHzVjkMRkEgSTZsYAzYf22Phkv7O%2Bq/tC6t4T8S6euia%2B3h/VfB91Z27axBrf9oJp0embIp3gaaW6lhjjdZjA4njkEvltvrDvf%2BCgvgy20uy023%2BB3jy58b3fjmfwlJ8Mov7HXWLXVIdL/td45ZpNRXTwv9nNFdBxdkMk0YXLkoMvwd%2BzB8V1%2BBPxF8D/ABc%2BGfgLxPqfxG1zUPE2q6KPGd/b6emoz3CeRYpdJp/nxRwW9vaFdQSMTfaEaRbeLC48jP8AwS6%2BIFt4FFxrXw3%2BG3jmTXvi3d%2BNPG3wm%2BIXi/U9U0C/L6FDo9qsmrX1jd3V9Pbraw3Pm3NqwklllwsWyFkAPsX4IfGDwf8AtA/B7wx8cPh%2B10dE8WaHbarpf2638qYQTxiRQ6ZO1gDg4JGRwSME%2BW/sf/8AJvWr/wDZevHP/qwNVrp/gH%2Bzxq/gP9kXwv8As2fFXxvqOqXel%2BF7fTNV1fQddvrCbKKPkt7uGVLqNYwBGknmLKUQFjkmuZ/4J7%2BD9E0X9mPUfBEJvbmwsvi18QrWFtU1S4vbl0j8aa0FaS5uHeaaTgEyyO0jN8xYnmgD3qisr/hD9J/5%2B9U/8Hl3/wDHaX/hD9J/5%2B9V/wDB5d//AB2gDUqpr2haP4o0O98M%2BItNivNP1G0ktb6zuE3RzwyKUeNh3VlJBHoarf8ACH6T/wA/eq/%2BDy7/APjtH/CH6T/z96r/AODy7/8AjtAHz94J/wCCYPwo%2BGnwj8B/DD4efGr4j6VqHw%2B1vU9U0vxyup6fc63eS36TRXQupLmykgk3RTeUrrCksaQxCN02kmx4G/4JifAP4f8Ahrw94V0Txb4wktvDXhr4eaHYNd6lbPI9t4N1W71TS2kb7ON0ks95Ktw3AdFQRiFgXb3n/hD9J/5%2B9V/8Hl3/APHaP%2BEP0n/n71X/AMHl3/8AHaAPEPht/wAE7vAvwp%2BIml/EDwl8dfiIq%2BF/Deu6F4D0K4vNNksPC1nqs1tNMlohsd8pie0g8k3T3GxU2Hcny16R8c/gHonx38G6X4c1fxpruiapoGtWuseHvFmgParqOmahAGVbmITwS27Fo5JonSSF43jmkUpg8dP/AMIfpP8Az96r/wCDy7/%2BO0f8IfpP/P3qv/g8u/8A47QBxfw2/ZtsPhF8MIfhX8Pfir4qsLVNO1dbjUSbCa8utU1K6a8uNakeW0ZTe/aZbiYAKLYvcyboHAjCczc/sK%2BANd%2BCvxB%2BDvjv4n%2BMvEc3xVbb4/8AF2qXNjHqmrW/kRWxtD9mtIraC3NrF9n8uGCMbJZWGJZHlPrX/CH6T/z96r/4PLv/AOO0f8IfpP8Az96r/wCDy7/%2BO0AYHxN%2BBfg/4r%2BIvAuveJ7y/SLwB4o/t/SdLtJI0tbq8WyubSL7QpQl0iF08qKrJiWOJznYBWP4v/Zos/iD8ZdJ%2BKnjn4u%2BLtU0rQNUi1XQ/h/OdPTRbPUYoGhju/3dmt5M673kVJrmSJZWEgjDJGU7f/hD9J/5%2B9V/8Hl3/wDHaP8AhD9J/wCfvVf/AAeXf/x2gDUrK8H/APIJm/7Cl9/6Vy14r%2B0Z%2B25%2Bxj%2By7fDw38TfjJdTeIpHEdt4R0DWL3UdVmkP3U%2BzQSM0ZbsZNin1rzux/ag/4KI/H6zTSP2SP2JIfh1oMgxb%2BMfjffm2lCE5LrpkBaffglgzMysTz3z5tbNsFRqOlFuc19mCc387aL/t6UT7XLfD/ifMMHHHVaccNhpaqtiJxoU2u8HUanU/7hUqt%2BjPr69vrLTLOXUNSvIre3gjLzTzyBEjUDJZmPAAHc183fFL/grN%2Bxx4C8SN4A8B%2BKNX%2BJ/ikZ2eGfhVoz63ctjgjfFiHIPBHmZB7VzVj/wSuufjLexeJP8AgoH%2B0/4w%2BL9ysglHhiK5OjeHYHzkbbK0ZS5U4G8uNwHzLX0p8Kvgr8Ifgb4dXwl8G/hloXhfTVxm00PS4rZXI/ifYoLt6s2Se5rLnznFfBGNGPeXvz/8BTUF85SO94Xw3yL/AHitVzGqvs0U8Nh7/wDX2pGeIqLzhRpJ9GfNv/DTn/BUb43fu/gJ%2Bwjofw/0%2BX/UeIfjL4pw%2BD3bT7IefGR6EkUh/YV/bh%2BM48z9qT/gpL4ms7Kb/W%2BHPhBo8OgxRjugvMNNKp6fOucV9dUU/wCyY1f95qzqeTlyx/8AAYcq%2B9sn/iIVfA6ZLl%2BFwfaUaKrVf/B2K9vJPzjTh5W2PnH4Wf8ABJn9gn4Wan/wkn/CiLPxRrTuHuNc8dXUus3E8g/jYXTPGG91Ra%2BhtK0jStB06HSND0y3srS3QJBa2kKxxxr6KqgAD2FWKK7cNg8Jg48tCnGC8kl9%2Bl382z5jOuJeIuI6yq5rjKteS29pUlNL/Cm%2BWK8oxiraWtoFFFFdJ4gUUVDfahYaXbNe6nfQ28KfflnlCKv1J4FGwNpK7JqK4LxD%2B1V%2By/4RkaHxX%2B0h4C0x1%2B8uoeMLKEj6h5RXDeLv%2BCnf/BPbwTateaz%2B2J4BmReq6R4gi1B/wW1MjH8BXLUx%2BBpfHVivWUV/7ccVXM8toJ%2B0rwj6zgv/AG492or5KP8AwWx/YPvHabwt4i8Y67ZA4GqaR8PtTkt2PcBmhU/pR/w%2Bq/Yjk%2BSzl8e3Ev8Azwh%2BHWpF/wBYgP1rk/t3Jv8AoIh9/wDwDh/1l4f/AOgqH/gX/A1%2BVz61or5KP/BYb4L6n%2B78C/sxfHzxRKfuwaB8KriRm/7%2BOlIf%2BCh37WXjM%2BT8F/8AglH8Vb2Rv9WfHOqWXhxPYkzmTFH9t5Y/gnzf4Yzl%2BUP1D/WPJn8FRz/wwqS/9Jp/qfW1FfJI%2BI3/AAWo8XDz9A/Zw%2BBnhBZPuQeK/F9/fvF/vNZAK34Uo8Of8Fv7n9/P8R/2bLV25MFtpGtuiewZzk/jR/aqfw0Kr/7h2/OS/IP7bUvgw1d/9wmv/Spxf4H1rRXyUfhx/wAFptb/AHOpftIfA3RF6edo3hC%2BuX%2BuLhsUn/CkP%2BCxXh3/AE7Rv24/hn4jlbk2PiD4afY4VP8AdD2rlyPc80f2nV6YWrb0j%2BXtLh/bFfdYOtb/AAwX4Orc%2BtqK%2BSh4j/4Ld6B%2B71H4b/s46%2BE48zStY1m1aQeuJwQD%2BlH/AAuD/gspJ%2B7T9jz4SxsODI/xBmKt7gBcgUf2tTW9Gqv%2B4cv0bD%2B3KS%2BLD1l/3Cl%2BkmvxPrWvGf2X/wDkt/7R3/ZZrH/1CvC9eYf8LE/4LT3P%2Bp/Zz%2BBdtn/n48XX74/74Wui/wCCdd58bdQ1v483n7RmjeHtP8ZP8ZoP7Zs/ClxLLYR48I%2BGxD5TzfOcw%2BUWz/GWA4xXRhsdHEzcVTnHreUHFfe3udWEzKGMqOEaVSOl7zg4r723r5WPpOiiiu09EKKKKACiiigAooooAKKKKACiiigAooooAKKKKACiiigAooooA5j40aH4t8R/C3W9I8C/ErUvB%2BqyWZe08R6RZWlxc2RRg7GOO8hmgZmVWT95G4G/OCQK8BT9pr4y23/BJfwH%2B0iviWCXx74r%2BG/g9p/EF1p8XlwanrA0%2B2k1BoEVYiI5bxrgxBVj%2BTbgLxX0V8Rvh/4f%2BKngnUPh94qudXh07VIRFdyaD4hvdKuwoYNiO7sZYriEkgAmORSQSpyCQeC8EfsSfs5%2BAPgi37N%2BjeGtdvPA58Mv4fXw54h8daxq0EemkBRAn267lZAigLGykNEqqsbKoAABm/sieNfiXd%2BK/ix8FPib8Rr7xlN8N/Hltpel%2BK9VsbO3vb60utE0zU1S6Wxggt/OjkvZY8xQxgxLCSu4szfF3/BY34neG/Ef7bv7OlvpOm%2BIYLz4f%2BIr28v7jVfCOo2No5Ou%2BFkDWt1c28cF6Bk5a3eQLkbiNy5/Q34MfAv4afADw1deFfhlpV9DDqGpyajql5q%2Bu3mqX2oXboiNPc3l9NNcXMnlxRRhpZGKpFGgwqKo%2BE/%2BC9H%2Bg6z4B8WdP7B8E63qG7%2B7t8VeCEz/AORK8nPf%2BRPXfaN/ucX%2Bh%2BgeFOviRlUP56yh/wCDI1af/uQ/RqiiivWPz8KKKKACiiigAooooAKKKKACiiigAooooAKKKKACiiigAooooAKKKKACiiigAooooAKKKKACiiigAooooAKKKKACiiigArxnxx/ykL%2BF/wD2Rnx5/wCnbwhXs1eM%2BOP%2BUhfwv/7Iz48/9O3hCgD2aiiigAooooAKKKKACvGf2D/%2BSIa5/wBlm%2BI//qa63Xs1eM/sH/8AJENc/wCyzfEf/wBTXW6APZqKKKACiiigAooooAKKKKACiuQ%2BN/x6%2BD/7N/w/uvij8b/H%2Bn%2BHdDtOHvL%2BXBkfBIjjRQXlkODhEDMcHAr5dHxc/bs/4KIsLT9nTR7/AOBnwlufv/ETxJZA%2BI9cgPfT7QnFrGw6TOc4KujZBSuDFZjRw01SSc6j2hHWXq%2BkV/ek0u19j63IODczzvCyx9SccNg4O0sRWbjTT35YWTnWqW2pUYzntzezXvHtH7Un7fX7OX7JrweHvHfiW41fxbqGF0XwF4WtTf61qMjfcVLaM5QN2aQopwQCTxXjkXwp/wCCg/7fEi6l8ffF978AfhnOd0XgTwbqAfxNqkR6C9vgMWqsDzHGM4JR0yA1bvhXwp/wTN/4JVWFxrvjD4j6FpPiq/Qyav4o8Xav/aPiXVmbl5GwGuGDHkrEioTglc81Tf8A4KuXHxTU237GX7FnxV%2BKLS/8emtyaL/YmiSk9P8ATbzG315jHFeNXr06tTkzCul/06ptt/8Ab7inOXolCPqdGK8QOB%2BCajw/D0VVxS/5ia8I1KqffD4WKqwo%2BU6qrVtmvZvb2X9nH9iH9lj9k6z8v4GfBzStJvXQrda5LGbnUbnP3vMupi0rAnJK7guScAV6je3tnp1rJfahdxQQRKWlmmkCog9STwBXyMnwj/4K0ftIMLn4s/tD%2BEvgfoUpz/wj/wAN9L/tXVmT%2B5Ne3J2ROP78GRx05NWrL/gjX%2By74juo9V/aK8d/Ez4u3qNv834h%2BPrueNX/ANmOBolCjspyMcc120K%2BIhTVPBYTlgtuZxpr/wABSlL70mfnuZ8T8T8RY2WMr06lapLepiKlpP5N1KluytFLpFHpXxN/4KOfsI/CCR7fx5%2B1d4Jt7iM4ls7LW472eM%2BjRW3mOv4ivNZP%2BC1v7C2qSNF8NdY8a%2BNWU4P/AAinw%2B1KYZ%2BssMea9n%2BGP7Fv7I3wZRB8L/2avBOjSoMC7tfDdv8AaD/vTMhkb8WNelxRRwxrDDGqIowqqMAD0Arb2ed1N6lOHpCUvxlKP5HD7LiOr8VWlDyjCc/xlOK/8lPkw/8ABWvQtV/deBv2Cv2lddlfiFrX4VtHCT/tSSTDaPfFIP23v%2BChniw%2Bd8Mv%2BCS/iFrXqJ/F3xN0zSZMdv3LqzZ/Hivraij6lmM/jxb/AO3YU4/nzB/Z2bT/AImNkv8ADTpR/F858lf8NK/8FbL35LX/AIJneF7Ino958ZrKVV%2BojjyfwpH8df8ABavxYPsei/An4E%2BEjKcfbNe8T6hfiEdzstgNx9O2evFfW1FH9mVn8WKqv5xX5Uw/sfES%2BPGVn6OEf/SaR8kJ%2ByF/wUw%2BIZ%2B2fFv/AIKcf2AjddG%2BHfw7tII4/XbdTMZW/EcUv/DqrW9cPnfEH/gpF%2B0rqjn70Vj8RFsbdv8AtlHAf519bUUf2LgH8alL/FOo/wD29L8A/wBXsrl/EUp/4qlWX/uRL8PkfJX/AA5q/Zov/wDkbfi38Y9fz97%2B2fifePu%2BuzbUtj/wRH/4JsQ3K32tfAi91mdTkS6x4z1afn3X7SFP4ivrCij%2Bw8m64eD9Vf8ANsFw3w/fXCwfrHm/9Kcjwfw9/wAEv/8Agnn4YjWLTf2PPAcoXodR0KO8P4mfeTXb%2BE/2TP2V/AV0t94G/Zo%2BH%2BjTp9ybSvBtjbuv0aOIGvQaK6qeAwFL4KMF6Riv/bTtpZZllD%2BHQhH0hBf%2B2/qIiJEgjjQKqjCqowAPSloorrO4KKKKACiiigAooooAKKKKACvGf2X/APkt/wC0d/2Wax/9QrwvXs1eM/sv/wDJb/2jv%2ByzWP8A6hXhegD2aiiigAooooAKKKKACiiigAooooAKKKKACiiigAooooAKKKKACiiigAooooAK/Pb/AILuaR/bfhGWzC5MfwJ8W3A9vK8U%2BBZc/wDjlfoTXxB/wV80j%2B3F1Cy2Z2fsv/Em4x/1y1PwhLn/AMcrzs4h7TKcRHvCf/pMj7Lw5xH1TxCyev8Ay4rDv/ytT/zPs7wfq/8AwkHhLS9eDZ%2B3adBcZ9d8at/WtGuF/Zd1f/hIP2Zvh1r%2B/d9u8C6RcbvXfZRNn9a7quyjP2lGM%2B6T%2B9J/qfNZnh/qeZ18P/JUnH/wGc4/%2B2hRRRWpxBRRRQAUUUUAFFFFABRRRQAUUUUAFFFFABRRRQAUUUUAFFFFABRRRQAUUUUAFFFFABRRRQAUUUUAFFFFABRRRQAV4z44/wCUhfwv/wCyM%2BPP/Tt4Qr2avGfHH/KQv4X/APZGfHn/AKdvCFAHs1FFFABXn/7S/wAcbn4A/DWLxZovhFfEGtar4h0vQfDehyaj9jjvdR1C9itIFln8uQwQq0vmSyCORlijcqkjBUb0CvPv2l/gddfH74axeE9F8Xr4f1rSvEOl694b1yTTvtkdnqOn3sV3A0tv5kZnhZovKljEkbNFI4V42KuoB59c/t0XWhfsveKfjd4t%2BFMdp4n8HeMT4R1vwlb%2BIhJaR6w%2BpQWEGNQeBMWUhurW4Ny0CtHBKWeIMjR1yHiz/gqDpPgPwlqOk%2BNvC/gjR/H2j/FCTwLrGnat8T1tfDVhfR6PFrTXM2tS2SslsLG4gBY2nmfaZVt/Lzlx3/w//ZW%2BI3gj4R%2BMfAOqfEzwf4h1Tx1dalqviK%2B174dyT6fd6rezMZDJYnUcPYLbCG2W0MvmbIdz3LsxNcD4Q/4JhWPw18M6Fr/wy8X%2BCtE%2BIWg/Ey48bWmrWfwyEXhyG7n0U6G9rBo0F7G1vbLp4iRFS78wTQiVpH3yI4B9LfDnxHqfjDwBovizWYNIiutT0uC6nTQNZOo2IaRA3%2Bj3RiiNzDzlJfLTeuG2rnA8z/YP/wCSIa5/2Wb4j/8Aqa63Wx8F/wBlf4e/DD9l/R/2WPGFjYeMtBstLa01WDXdHhe01IySNNKGtGDRJCZHbZD8yxoEQE7Qa5n/AIJ0%2BGPDXgr9m6%2B8H%2BDfD1jpGkaX8W/iHaaZpemWiW9taQR%2BM9aWOKKJAFjRVAUKoAAAAFAHulFFFABRRRQAUUUUAFfP37Yv7dFj%2Bz/rOmfA34NeDJPH/wAYfFK48MeBNPlx5SHre30g4trVMFizEFtpwQod08n/AG2P%2BCrF3oXiaf8AZZ/4J8%2BEpPin8XLsPDM%2BhW/2yw8O9FaWZ1/dySITgqWEcbA%2Baw2%2BW3ln7KX/AAR8/aw16LV/GH7YH7S1/wCHLnxjKZ/Gdh4HvQ%2Bua7uOTDfaswJSEfd%2BzW4MJULzuG6vmcdm%2BIxNZ4TLIuctpTVuWHkpP3XL/wACUd2m7RPayXM%2BFMthLG46DxtWP8PC03aMpdHiq6tGjRi9ZU4SniKvwxjSi5VDGm1zQ1/aCg1b4pxXH7Wv7S1u27T/AAR4XYJ4O%2BH/AMw4MjgwQlGGDLIGfci7ljfEh%2BhB%2Byr/AMFGv2oD9q/ay/a8h%2BG/h%2Bfl/AvwQha3nKH%2BGXVJwZQ2OGVAyNk4xX0X8BP2cfgj%2BzB4Dh%2BG3wH%2BHGneHNJiwXisov3lw4GPMmlbLzSY/jdmbtnArtq0weRctN/WJt31cYuSTf8AelpOo%2B7lKK6KKWh4uf5jxHxpio4jP8TzRiuWnQo/usPRh0p04Q5fdXXWKk7ylzybk/C/gJ/wTY/Yr/ZxvF174f8AwL0u51zf5kvibxHu1PUXlPJk8%2B5LtGxPJ8vYPavdKKK9vD4bDYSnyUYKK7JJfl%2BtzmwuDwmCpezw9OMI9opL8lr6u78wooorc6QooooAKKKKACiiigAooooAKKKKACiiigAooooAKKKKACiiigAooooAKKKKACvGf2X/APkt/wC0d/2Wax/9QrwvXs1eM/sv/wDJb/2jv%2ByzWP8A6hXhegD2aiiigAooooAKKKKACiiigAooooAKKKKACiiigAooooAKKKKACiiigDzD9tP4veKvgH%2ByZ8Q/jH4GjtTrfh/wpeXWjvfRF7eG6EZEUsqggtEjlXdcjKqwyM5HmXgv4xfGH4SaR%2B0F8PfiF8c4vFFz8KvDsGuaF4%2B8b6baWohiuNJkuDHqC6ZbwRNHBPbSyFooVfyJkUh2Xe/0T408G%2BFfiL4O1b4feOtAtdV0TXdNn0/WNLvYg8N5azRtHLDIp4ZHRmUjuCa4LwH%2Bxr%2Bz38OfDWqeENB8K6rd6frwuh4ji8Q%2BL9U1ZtbFxaxWki3z31zM98BbQRQoJzIIo0CR7ASCAeP/APBN342/tJeP/GXjL4e/tKal4xiv9M8I%2BFtbsNG%2BI2maJb6zEdQXUFuLlDoaLaNp8ktpsgSQ/bI5Le5FwqBoQeX/AG7vG/hv4ofGbxT8MNI0rxDHe6R%2Byj8Vra9l1XwjqNjaSvLN4ZCG1urm3jgvQCvLW7yhfl3Eblz9LfAv9lv4K/s4SaldfCrQNUiu9XtrS21DUde8U6jrN3JbWokFrbC41G4nlS3h86YxwKwjQzSFVBdifNP2ptI/4SD9qTw7oGzd9u/Zy%2BJdvt9d994TXH61hioe0wtSHeMl98ZL9T1chxH1PPsJiP5K1KX/AIDVpS/9tOq/4J4ax/bv7Bnwa1AtuI%2BGWiRM3q0dlFGf1U17HXzl/wAEj9Y/tz/gm98JL3dnZ4Z%2Bz5/65Tyxf%2ByV9G1hlc/aZZQl3hD/ANJietx3h/qnHOa0P5cTiF/5Xq/5hRRRXcfKBRRRQAUUUUAFFFFABRRRQAUUUUAFFFFABRRRQAUUUUAFFFFABRRRQAUUUUAFFFFABRRRQAUUUUAFFFFABRRRQAV4z44/5SF/C/8A7Iz48/8ATt4Qr2avGfHH/KQv4X/9kZ8ef%2BnbwhQB7NRRRQAUUUUAFFFFABXjP7B//JENc/7LN8R//U11uvZq8Z/YP/5Ihrn/AGWb4j/%2BprrdAHs1FFFABRRXE/tC/tEfCP8AZa%2BFeo/GP41%2BLYdI0XTk5d/mluZSDsghjHMsrkYVB7k4AJEVKlOjTdSo0orVt6JIzrVqWHpSqVZKMYq7bdkkurZL8evj38Kf2Z/hZqnxk%2BM/iyDR9B0mLdPcS8vK5%2B5DEg5klc8Ki8k%2B2TX59Q/Ef9uz/gtfqk%2Bh/C6PUvgx%2BzsZ2h1HX5BjVfEkQO14kZSN4YZUoh8lMsHeYgIeV%2BCvgP42/wDBdv8AaNX9oD9oHTL3w9%2Bz74K1N08N%2BElmZRq0ynmMsMeY5GPPnH3QfKjwSzL%2Bq%2BjaNpHhzSLXw/4f0u3sbCxt0gsrK0hWOKCJFCqiIoAVQAAABgAV8vSeI4lbndwwmyS0lV7tveNPokrOXVpHbWyp4emp5pBqcknGg7x5YtXjPErSXNNNShhrw5YOM8T7044dcB%2By9%2ByX8B/2O/htB8L/AIDeBrfSbJFU316yh7zUpQD%2B%2BuZsbpX5OM/KoO1AqgKPSKKK%2Bno0aWHpKnSioxWiSVkjmSitEkl2SSS9Ekkl5JJLogooorQAooooAKKKKACiiigAooooAKKKKACiiigAooooAKKKKACiiigAooooAKKKKACiiigAooooAK8Z/Zf/AOS3/tHf9lmsf/UK8L17NXjP7L//ACW/9o7/ALLNY/8AqFeF6APZqKKKACiiigAooooAKKKKACiiigAooooAKKKKACiiigAooooAKKKKACiiigArxX4iWsN9%2B3/8NLK4XMc3wV8fI49QdV8IA17VXjPjj/lIX8L/APsjPjz/ANO3hCjcabTujzX/AIIiXUz/APBM/wCHul3TZn0y51qzm9imr3mB/wB8la%2BsK%2BS/%2BCM3%2Bgfsqa/4T6f2D8V/E2n7f7u2%2BZ8f%2BP19aV5WRf8AIlw67Qivuuv0PvvFZL/iJmcSW0sRVn/4G41P/cgUUUV6p8AFFFFABRRRQAUUUUAFFFFABRRRQAUUUUAFFFFABRRRQAUUUUAFFFFABRRRQAUUUUAFFFFABRRRQAUUUUAFFFFABXjPjj/lIX8L/wDsjPjz/wBO3hCvZq8Z8cf8pC/hf/2Rnx5/6dvCFAHs1FFFABXmH7W3xk8ZfBj4YWF98NbPTJfEviTxhovhrQJNbgklsrW41C/htjdTxxSRvLHDHJJN5SyRmUxCMPHv3r6fXG/Hj4JeGv2gfh1L8O/E2sanpe3UrHU9L1rRJo473S9QsrqK7tLuBpY5I98c8MbbZEeNwCjo6MykA8Tv/wBsf4z%2BGf2Q/iJ8SNd8PeHr3xz8N/G83hbW76w026TRgFvraL%2B2WtvOknS1hsruO%2BngEzMghmjExwJa4vRv%2BCmvijxD8AfiF/wrfXPA/wAQPiL4a8b3XhXwjrfhqyuIfD3iCRNEs9afVhD9qmkWytbW8bztt0wlktSkUoa5hFe%2BfDn9lgfCn4e6t4G8F/HrxxBda5JeXupeJpV0mXUJtWurp7ifVSXsDD55LiMReV9lSKKNEgULXO6j/wAE3v2VfG3w11XwB8dfh9p/xPvtc1O91TVvF/xF0DTNS1SbUbq2htZL1CbVYLaVbe2tYUEEMaJHawqEwgoA7f4Y/HPRdQ/Ze8LftE/GPxJofhu01LwVput%2BINSvLxbPT7Fri2ilkJknfEUYaTALucDAJJ5rjP8AgnT4n8NeNf2br7xh4N8Q2Or6Rqnxb%2BId3pmqaZdpcW13BJ4z1po5YpUJWRGUhgykgggg16V8Dvgz4B/Z3%2BD3hr4GfC7RorDw/wCFNGg03S7aK3ii/dxIF3ssKIm9yC7lVUM7McDNcH%2Bwf/yRDXP%2ByzfEf/1NdboA9moorI8feO/Cfwv8Eav8RvHetQ6douhadNfapfTnCQQRIXdj3OADwOT0HNKUowi5SdkiZSjCLlJ2S1b7JHKftQftM/C79kf4N6n8avizqjQ2FgojtLK3Aa51K7fPlWlun8crkYA6AAsxCqxH5d638I/2mP8Agrn%2B2Na%2BDfjlqc2lWfh9Y73xXoOmTFrH4faZKd0emhiNs%2BtXKj96zD9yAQRuRooOn%2BM/xb%2BNv7VHxB8IftDXXhd/%2BEt8cXkmn/spfC%2B%2Bwy6LaH/X%2BMdSTlQ6RjzItwKqVVwHWMNX6G/sefsp%2BBv2PPgnYfCbwfNJfXjSNe%2BJfEF3k3Ot6nLgz3kzEklmboCTtUKuTjJ%2BLqqpxRjfZO6w0LNrbm6q/wDi3S%2BzC0muaceX6rhjCUcryqnxfmdNSlUb/s6hNXUnB2lmFaEl70KUvdwlOScZ117aUZRopHcfDr4d%2BCvhL4F0r4afDnw5baRoWiWSWmmadaJtSCJBgAdye5Y5LEkkkkmtqiivs4xjCKjFWS2PnK1atia0q1aTlOTbbbbbbbbbbu222222222woooqjIKKKKACiiigAooooAKKKKACiiigAooooAKKKKACiiigAooooAKKKKACiiigAooooAKKKKACiiigArxn9l//AJLf%2B0d/2Wax/wDUK8L17NXjP7L/APyW/wDaO/7LNY/%2BoV4XoA9mooooAKKKKACiiigAooooAKKKKACiiigAooooAKKKKACiiigAooooA8i/b6%2BIXjT4UfsUfFP4kfDzWZNM1nRfA2o3Vlq8MYZ9NKwNuvFDAqTAu6YbgVzHyCMivKfh14x8c/AjTf2mfBnwn8T%2BIvGun/DXQrXVvBKeKvEl5r11Hqkugm7k043d3LLcTIXS2uBG8jFf7QIXahjVfq69srPUrOXTtRtIri3uImjngmjDpIjDDKyngggkEHgg1ynw5/Z5%2BAPwe0%2Bw0n4R/A7wf4WtdLluZNMtvDnhm1sY7R7gKLholhjURmUIm8rgvsXdnAoA%2Bff%2BCZ3j7WLmfUfhz8QbPxLL4qu/h74Y8ZXetav8W77xVb6pZ6mL5IbgJcBIdKuGltLhpLSzjFqAYvJeRUxH1d/408SeIf8Agpt4L8O6t8I/EOhWek/B7xwlhr2q3OnPaa0G1bwll7Zba7lnQJtGftEUB%2BcbQ3zY9e%2BF/wADfgp8ELbULL4L/B/wt4Qh1a8N3qsXhfw/baet5cEYM0ogRRI%2BP4myfeuC8cf8pC/hf/2Rnx5/6dvCFAHmP/BJn/iX6Z%2B0F4Tbj%2ByP2nfFkMS%2BkTG2dT%2BOTX1pXyX/AME3/wDiVftDftUeFOnk/GuTUNv/AF9Wkb5/HbX1pXk5HplkI9nNfdUqI/QPFL3uOcVV/wCfkaE//A8JhJfncKKKK9Y/PwooooAKKKKACiiigAooooAKKKKACiiigAooooAKKKKACiiigAooooAKKKKACiiigAooooAKKKKACiiigAooooAK8Z8cf8pC/hf/ANkZ8ef%2BnbwhXs1eM%2BOP%2BUhfwv8A%2ByM%2BPP8A07eEKAPZqKKKACiiigAooooAK8Z/YP8A%2BSIa5/2Wb4j/APqa63Xs1eM/sH/8kQ1z/ss3xH/9TXW6APZq%2BCf%2BCn3xx8LfGP4kSfskatr8tp8Nfh9pcfjP9obVbSTBNjERJY6GhyMz3UvlnZkMQ0ZUnawr62/ap%2BPegfsvfs6%2BMfj74k2NB4Y0Oa7hgkbAubjGyCDPYyTNHGPd6/Of9mT9njXv2jPib4d/Zd8cyzan5V7bfFL9qfWZxk6prd2PO0zw9IR0SJGDPDynEm3ay4r5jiHFVJ8mAoq8qlrrur2UX5Sabl/07hP%2BY7shyChxdxDDLcXJwwVGDxOMmt44am1eEentMRU5KFNdXN7pSPqT/gm78BPF3iG81H9vz9oPQIbPxv8AEPTYYfCvh9I8ReD/AAwoBs9OhXA2MyBJJMAZJXIVt%2BfrSkVVRQiKAAMAAdKWvcwODp4HDKlF36tveUnq5Pzb%2B5WS0SPR4m4gxPE2cTxtWKhGyjTpx%2BClSguWlSgukacEorq3zTleU5NlFFFdZ4AUUUUAFFFFABRRRQAUUUUAFFFFABRRRQAUUUUAFFFFABRRRQAUUUUAFFFFABRRRQAUUUUAFFFFABRRRQAV4z%2By/wD8lv8A2jv%2ByzWP/qFeF69mrxn9l/8A5Lf%2B0d/2Wax/9QrwvQB7NRRRQAUUUUAFFFFABRRRQAUUUUAFFFFABRRRQAUUUUAFFFFABRRRQAUUUUAFeKePL20i/wCCi3wqsJJ1Wab4LePmijJ5YLq3g/dj6bh%2Bde118Mf8FG/i5dfAz/gqL%2Bxx48knZNLvk8aeHtZI%2B4IdRk8P20bOeyrOYXyeMqK58ViI4Wg6stla/wA2l%2Bpy43FQwWGdaeyav6OUY3%2BXMmdn%2BxV/xKf%2BCjv7XfhboE1nwfqCD1%2B06RIxI/Fa%2BtK%2BS/2ff%2BJN/wAFef2hNN6f214G8J6hj%2B95MMkGf1xX1pXDk2mFnHtUqr/ypJ/qfpXiV7%2BfYet/Pg8DL/y0pRf4wYUUUV6x%2BfhRRRQAUUUUAFFFFABRRRQAUUUUAFFFFABRRRQAUUUUAFFFFABRRRQAUUUUAFFFFABRRRQAUUUUAFFFFABRRRQAV4z44/5SF/C//sjPjz/07eEK9mrxnxx/ykL%2BF/8A2Rnx5/6dvCFAHs1FFFABXkP7a/xI8ffDz4T6RZfDLxK2hax4s8f%2BHfDEPiJLSGd9Ji1DU7e3nuY450eJphC8gi8xHjErRl0dQUb16ud%2BLHwn8A/G/wABXvwz%2BJuhtqGj37wSTQxXs1tLHLDMk8E8M8DpLBNFNFHLHLE6yRyRo6MrKCAD50sPjL%2B1RP8Ash/FCw8G%2BINR8VeO/h98Rrvwzb%2BKLXQbWXUr7S4r61aa/js4Ykt57%2BDTrmXESRCOa5tQBCBJ5Vcn8P8A9pPxl44%2BBvxZ1v4gftZ/E3wPo3wf%2BJZ0i28b33w/0mz8SeI7SfRNJv7aCfTb3SiiXDXOq/Z4oIrKGecJbAKHlIb6S8Lfso/BfwR8Pbr4X%2BELPxJpukXtpPDdCz8eaxHdSvPdSXU92boXf2j7bJPLJI975n2ly3zSkAAc34k/4J6/sq%2BK/A/h/wCH%2BreEvEiWXhjxTL4l0q8sPiPr1pqJ1mRJI31Ce/gvUuru42SuvmzyyMARgjAwAdH8H/iF8TdB/ZR8J/Er9qDw5d2vjGPwVp13460rw3oVzfzQ6k1vGbqKG0slnlkIlLjy4hJjBwWA3Hk/%2BCdPiGw8W/s3X3inSre%2BittR%2BLfxDubeLU9LnsrlEfxnrTAS29wiTQOAeY5EV1OQyggivZPCnhnTvBnhqx8J6Rc6hNa6dapb28uratcX9y6KMAy3NzJJNO/q8js7HkkmvKP2E5I4fgbr0srhVX4y/EcszHAAHjXW%2BTQB8wf8Fqvj3oy%2BIvCP7Pt55dzovhmxm%2BJHxEs3P7u4srFvK02wl9Uu9QeOEjgglDX0H/wTO/Z31T4B/su6Zqnj0y3Hjzx5K3ir4g6neD/SLjVL3ErpIe3lKyx7RwCjEfeOfgLwBbXH/BQv9srSta1KFrjT/jB8QZfE%2BoQyDP2fwF4bke2sIHU/dS8vUkV1A/1lvG2ea/YCvkcjX9pZpXzGWq%2BGHpbf/wABt/4Gz6jCN5P4dUXtWzeo8VPv9UoOVDBQfXlqTWJxVtm3TlZ2TCiiivrj5cKKKKACiiigAooooAKKKKACiiigAooooAKKKKACiiigAooooAKKKKACiiigAooooAKKKKACiiigAooooAKKKKACvGf2X/8Akt/7R3/ZZrH/ANQrwvXs1eM/sv8A/Jb/ANo7/ss1j/6hXhegD2aiiigAooooAKKKKACiiigAooooAKKKKACiiigAooooAKKKKACiiigDyL9vr4heNPhR%2BxR8U/iR8PNZk0zWdF8DajdWWrwxhn00rA268UMCpMC7phuBXMfIIyK86%2BBvjnUv2fta/aE8KeHb/wAefEXwt8M7TTtX0DTZ9avvEutS3UujC7udJtp7mSa5upH2W88cLO7BtQCrtjMaL9O3tlZ6lZy6dqNpFcW9xE0c8E0YdJEYYZWU8EEEgg8EGuU%2BHP7PPwB%2BD2n2Gk/CP4HeD/C1rpctzJplt4c8M2tjHZvcBBcNEsMaiMyhE3lcF9i7s4FAHzL/AMEo/jb49%2BKPj747aJ8T/Gnj3WNZs/G2l6hNB4u8I67pVnpBvNC0%2BaXT9Pi1a1gMFtFO0yxwhVkaPZPIpNx5knn/APwVd8JeMv2i/iJf/D6H4Q%2BJNBvPCPwH8b654T8SX1zpzw6tdWOs%2BELsPZLbXcs6ECAxn7RFAx84bQ3O3770rwr4X0LVtT17RPDdhZ32t3MdxrN7a2aRy38yQpCkkzqAZXWKOOMMxJCRqo4UAeSfEK1tr7/goD8M7K8gSWGb4K%2BPUlikXKup1XwgCCD1BFc%2BLw8MXhalCW0k196a/DR/I5cdhYY7BVcNPacXH701f5aP5Hzp8Bfjnp%2Bp/wDBRH4b/tGeIUS20X9oj9n%2BztdCvYz%2B6Gu2cgubiyc9FdY2KjnlsKMmvvWvzK%2BFH7PHin4k/sPfE/8AY98FXUsHxI/Zl%2BLt9qHwsu1ObhPKma/09lJ5xcJJcRKDxyhP3Rj7q/Y9/aR8Pfta/s3%2BFfj34ejSE63pwOp2KnmxvoyY7m3OeRslV1GeSu1u4rwsgxM9aVXea9ovW/LVj6xqRv8A4Zo%2B9xuIlxZ4fZTxFH%2BJQpwwWJj/AC1KKn7GfkqtP2ke3tKLX2kj0uiiivpT4wKKKKACiiigAooooAKKKKACiiigAooooAKKKKACiiigAooooAKKKKACiiigAooooAKKKKACiiigAooooAKKKKACvGfHH/KQv4X/APZGfHn/AKdvCFezV4z44/5SF/C//sjPjz/07eEKAPZqKKKACiiigAooooAK%2BSNM%2BI5%2BEf8AwTO%2BNfxHjn8ufSfFnxals3zj/SD4s15YRn3kZB%2BNfW9fmh%2B3r8Q4PBH/AAR38faFLefZ28WftC%2BMtGWUHBCnx/rNzIB9YraQH2Jrzs3xH1TKq9b%2BWEn87NL8WjgzSVeOW1vYq83FqKW7lL3IJebnOKXm0bH/AAb6/Bm%2Bn%2BFmt/tS%2BJrDy5NRsrPwj4TRjuWHTdPQfapIj/cnvmlcj%2B/Ea/Revnz/AIJTeCf%2BFf8A/BOn4Q6D5Wzz/B8OpbcY/wCPxnvM/j5%2Bfxr6DrDh/CrB5LQprdxTfrJKT/NL0SPvOOpwjxRiMFSa9lhOXC07bKnhYxw0LevsZTf96pJ9Qooor2D5IKKKKACiiigAooooAKKKKACiiigAooooAKKKKACiiigAooooAKKKKACiiigAooooAKKKKACiiigAooooAKKKKACvGf2X/wDkt/7R3/ZZrH/1CvC9ezV4z%2By//wAlv/aO/wCyzWP/AKhXhegD2aiiigAooooAKKKKACiiigAooooAKKKKACiiigAooooAKKKKACiiigAooooAK8Z8cf8AKQv4X/8AZGfHn/p28IV7NXjPjj/lIX8L/wDsjPjz/wBO3hCgDxT9o698Zf8ABPn9snWv274/CM2tfCf4jaRpulfFdtJiZ7zw9d2mYrXVWiXPmwCNhG%2BPmXLHqVDc94Z%2BK2kf8E4fjj4h%2BKX2VtW/Zm%2BNmsW/iHSPGnh5/tVp4T1e6QCdpkjBK2ly2xlkX5UwigE5r7r1TS9N1vTbjRta0%2BC7s7uB4bu0uohJFNE4KsjqwIZSCQQeCDiviPxN%2BzF%2B0j%2BwS3iG3/Zb%2BG1h8XPgP4hkln134IavPm/0ZZs/aF0xpQyTwNlmNs4JJ%2BVVLMz18tmGCxGDq%2B2oN8qk5ppczhKXxe6tZU5/aivei/ejfZdPDHEL4IxeKpYrDyxWV4xWxFKLaqQfOqiq0mk7ShNOpF8suWTnGUZ0qs4x%2B2dD1zRfE2jWviLw5q9tf6ffW6T2V9ZTrLDcROAyyI6khlIIIIOCDVqvzK/Zh%2BLfin4T3Wo6n/wTI8ZQeN/B0V5JceI/2XfiFeNpvibwvLktOmmtOxbaGyTGd6A5AMjsSPsT9mH/AIKFfs4ftR3kng7w/wCIbjw343snMWr/AA88YQf2frVlMoy6GCQ5lA7tGWABGdp4rvwGd4XFqMKjUZvbW8Zf4JbS9Haa2lBNH1eP4RWIy2WdcOV1j8v3dSnrUpJ/ZxNFXnRkvhcmpUW0%2BWqk1Fe40UUV7R8WFFFFABRRRQAUUUUAFFFFABRRRQAUUUUAFFFFABRRRQAUUUUAFFFFABRRRQAUUUUAFFFFABRRRQAUUUUAFeM%2BOP8AlIX8L/8AsjPjz/07eEK9mrxnxx/ykL%2BF/wD2Rnx5/wCnbwhQB7NRRRQAV4h%2B394k8RaF8E9G0jRPFepaBaeJPiX4V8P6/rmj6hJZ3Vnp19rVpbXAiuYmV7Z5lk%2BzCZGV4/tG5GRwrD2%2Bs3xj4M8H/ETwtf8Agf4geFNN13RNUtmt9T0fWLGO6tbyFhho5YpAUkQjqrAg0AfKfhCL9oHxx%2Bxr8V/hf8F/H%2BvarqPhf4r6loHhLWb3xVJ/auo6La6pbtd2EeqXDmT7WIjf6bFdyyeYkkUbPLvRpK8q%2BFHjv4pfFT4jWv7MXxD1v4k%2BC/h8f2g9a0PTkvPildya/Ja2vgy01RNJn12yvpZ5GXUJtRmYRXkjKLH7M0jJDKh%2B3rf9mv8AZztPBb/De1%2BAPgqLw7Jof9iyaBH4Vs1sm03zGk%2BxGAR%2BWbfe7v5WNm52OMkmo9T/AGYP2ada%2BEtt8AtY/Z48DXfgSzdXs/BVz4Ss5NJgZXLqUs2iMKkOzMCF4JJ6mgDhf2Mvi98RvFf7A3gP4veItI1nx1r0/hCCdBp0lpHfeIkX5IbtWuZoLfzLiIJOWaSND5hIIBAr8xP%2BCnnxXutV/Yt%2BH3gLWfC2oaVLrfxq%2BLWvajoWovBJc6dND4p1i3hjmNtLLCXWW%2BKZjkkQsp2uwwT%2B1Gnadp%2BkafBpOk2MNra2sKw21tbxBI4Y1AVUVVwFUAAADgAV%2BHP7QlzL8aP2ztB%2BDkaefYQfF/XPDVxFjPl3mp/E/XLtmPoDbWq5r5fjCclkU6Ud6jjBfOS/yPb4TwtLH8b5NhaqvCeMw7kv7lGbxNT/AMkwkj9qPg34LX4b/CHwr8O0jCroHhux04KOgEFukWP/AB2ukoor6aEI04KK2SS%2B5W/Q8rE4iri8TOvUd5TlKT9ZScn%2BMmFFFFUYhRRRQAUUUUAFFFFABRRRQAUUUUAFFFFABRRRQAUUUUAFFFFABRRRQAUUUUAFFFFABRRRQAUUUUAFFFFABRRRQAV4z%2By//wAlv/aO/wCyzWP/AKhXhevZq8Z/Zf8A%2BS3/ALR3/ZZrH/1CvC9AHs1FFFABRRRQAUUUUAFFFFABRRRQAUUUUAFFFFABRRRQAUUUUAFFFFAHj3/BQc%2BOR%2Bw58WD8N/7T/tj/AIQLU/s/9ib/ALds%2Bzv5v2by/n8/yvM8vZ8%2B/bt%2BbFeJfsc%2BL/2NdA1X446R8H/FfgWw%2BAt4ltNolvoWoW0OhTPDosba9JYiJhGYI4WszcND8iTNOXIlMtfZ1FAHx3/wSb8R/s2/EuT4k/Gr9k%2B/8CaJ4H8TX2mHw/8ADbwJfWe3R7SGGZI9UvrO0bZp97qGWcwMqyCG1txKBMsyJ3t/qXxXu/8Agpt4Ls/G3gvw9p%2BhW/we8cDw1qOleJ57y7v0OreEvMa5tpLKFLQjCYCTXAbccldo3fQ9eM%2BOP%2BUhfwv/AOyM%2BPP/AE7eEKAPZqKKKAPGf2l/%2BCf/AOyp%2B1hcLrvxX%2BGMC%2BIoApsfGGhytYavasv3GW6hwzbf4Vk3qP7tfJf7SP8AwSp/as1DT0t9N8beFPjxpGnAf2RD8T45NM8Waai8olrrtmVeVwQCPtB8vPVDiv0aoryMbkeW4/mc4Wk93HRv10al/wBvRb80Y4SlWyvM45nldaphcVHarQnKlU%2Bbg0pLupxmmtGmtD8g9P8A28P%2BCiv/AAT3kXRvit4W8Zz%2BG7Ntp0P4zaTJfrEnQQ2niTT1K3Tk4G6eJY1BHFfT/wCz3/wXr/Ys%2BK6w6T8WLnUPhxq7uIpP7Y23umNKQDtjv7XdGQAfvSLEK%2B254IbmF7a5hWSORSskbqCrKeCCD1FeA/Gj/gln%2BwF8eZZr7x1%2BzJ4dgvpiWfU/D8LaXcF/77PaNHvb3fdnvmvLjlPEGXP/AGLFKcf5Kqf4STbX9aH1Nbi3G5jG2d4Khi5f8/qa%2BpYh%2Bc3QjPC1X3c8JTberldntXgrx74G%2BJXh%2BHxb8OvGela/pVwM2%2BpaLqEd1byf7skbMp/A1rV%2Bel//AMG/3g/4b6/J4x/Y4/bL%2BJPwy1VjuV0uhcxjHRMwNbSFO2Hd%2BpznpXRab4N/4Lx/s8Wjx6N8RfhR8b9NhKrb22uwvp2qOg9HQW8Qb/aklkPrmuynmuZ0VbGYOS86bVRfdeM/wZ83i8blsZXo068V2nCE7f8Ab9CbT9XTj6X0PumiviDU/wDgrN%2B0J8F5Zov2tf8Agl58U/DVvZoPtes%2BDpYtesgcct5yLFCo6nHmt9TWt4D/AOC9X/BNbxnsi1f4s6v4anfj7P4g8LXYKn0Z7dJUX6lse9bR4hyZy5Z1lCXaacH904x/M4J5pgqVL2tZunH%2BacKkI69OaUFG/lz38j7JorxvwT/wUO/YU%2BIYRfCn7XPw%2Bmkk/wBXbXPim2tpm%2Bkczo/6V6p4e8W%2BFfF1p9v8KeJtP1OAjIm069jmTH1QkV6VHFYbEK9KpGXo0/ybN6GMweKV6NSM/wDDKL/Js0KKKK3OkKKKKACiiigAooooAKKKKACiiigAooooAKKKKACiiigAooooAKKKKACiiigArxnxx/ykL%2BF//ZGfHn/p28IV7NXjPjj/AJSF/C//ALIz48/9O3hCgD2aiiigAooooAKKKKACvxP/AGPvBk3jb/grLqDShpYdU/a%2B%2BINw245EI0CfULhPoDJqP51%2B2Ffl/wD8E7/h5bf8PUfECxOkqaVffFbxTcug4ivL74galpyof9r7Naxn6V89xBQeIWFj09rD9f0TPsuAsLfiGpmD2wmFx1b0k8LOhB%2BvPitD9QKKKK%2BhPjQooooAKKKKACiiigAooooAKKKKACiiigAooooAKKKKACiiigAooooAKKKKACiiigAooooAKKKKACiiigAooooAKKKKACvGf2X/APkt/wC0d/2Wax/9QrwvXs1eM/sv/wDJb/2jv%2ByzWP8A6hXhegD2aiiigAooooAKKKKACiiigAooooAKKKKACiiigAooooAKKKKACiiigAooooAK8Z8cf8pC/hf/ANkZ8ef%2BnbwhXs1eM%2BOP%2BUhfwv8A%2ByM%2BPP8A07eEKAPZqKKKACiiigAooooAKKKKACvPPi1%2ByT%2By/wDHgSN8Yv2f/CHiKaUfNe6noMElyPdZtvmKfcMDXodFZ1aNGvDkqRUl2aTX3NM68Hj8dl1b22Eqypz7wlKD%2B%2BMou3le3dM%2BIvil/wAG/P8AwTx%2BIBefwt4b8TeDZixdD4e8QvLGG6/6u9WdcZ6qMDsMV4X4v/4NwNX0LVv%2BEh%2BEX7SOkX7xA/ZdO8TeF5rLZ7m5024jYn/tnX6o0V4WI4U4fxDu8OovvG8fydvwPZ/1qzCvpjqOHxS/6iMLha7/APA50I1L%2Bfteb%2B8j8lG/4Jwf8FRfg4SdCk8WatHCcovwh/aOvNHDKOnyavDLnjtnmgeMf%2BCgXwq/d%2BMvGn7Y/hfy%2BHu28D6X40tIfd5keLK%2B%2BOfSv1rorl/1UoUv93rzj87/APt0WP67wHiv984cw6ffDVsbhH8lTxNamvlTS%2BR%2BT%2Bjf8FDvjBpF6uj6p/wWM0yy1DtpvxM/Zsl0mQezvboyDHQndXqXgv8AbK/bl8ShE%2BHf/BQD9i7xVI2NltrGqX1lO/1iikDA/hX6B6zoOh%2BI7FtM8Q6LaX9s/wB%2B3vbZZUb6qwINeXeM/wBgT9iH4g738W/sl/Dy6lk%2B/cp4StIpj/21jRX/AFo/sXN6XwYi/wD29Vj%2BtRfgH9l%2BEmJ%2BxmeFf/TvF0a8V8q9GnK3/bzfmeN6N8WP%2BCyVzaDULH4R/s7eKLf/AJ7%2BG/F%2BoRo/0aXIq3/w0Z/wVz0n/kIf8E4PB%2BrY6/2X8X7WDd9POj4q3rP/AARW/wCCcl/eHVdB%2BBl14evj9298OeLNTtHT6KtxsH/fNVD/AMEk/DGg/P8AC/8Abh/aL8K7f9Xbab8T3kth7GOWJtw9s0fVc%2Bp9Zv0rQf8A6cor8w/1O8Pq/wDu/EuMpeVbCRn%2BNGpP7%2BX5B/w2h/wUs0//AJD3/BIPUVA6tp3xq0e5z7gLGKP%2BHgX7Y1l/yGv%2BCTnxJjx1%2Bw%2BJdPufy2kZo/4YN/bm8N/8k3/4K0%2BN7YL/AKseJ/Aum6x%2BZlK5pf8AhSf/AAWJ8M/8gP8Abd%2BGPifb0/4ST4bGy3/X7I5x%2BFHNnEPi9v8Adh5/k4v8A/4hzgav%2B68XUH5VKdWk/nz4OUf/ACYT/h5Z8cLT/kLf8EtPjwmOv2PSLa4/9BlGaP8Ah6h4mtf%2BQp/wTJ/agTHX7J8NUn/lcDNL/av/AAW%2B8Nn/AE3wp%2BzZ4kiXp/Z19rdnM49/NygP04oH7Rn/AAVy8P8A/IY/4JxeD/EO3r/YPxetbTd9PtMZx%2BNH1vHR%2BKrWXrh4v/0lsP8AiFfE0/8Ads/wVT0xGEX/AKdjQ/ET/h7XokP/ACEv%2BCfP7Utn6/afg%2Bwx%2BVwaD/wV/wDhRD/yEf2S/wBoW0x1%2B0/CecY/KQ0v/Dd/7dOjf8jn/wAElPGsGPv/ANh%2BPtM1L8vLC5o/4eh%2BO9I/5HD/AIJjftI2%2BPvHSPA0WoAfik68Uf2hVW%2BLa/xYdr9A/wCIReJ0v4OIo1f8FTAT/wDScbET/h8l%2BzdD/wAhH4OfGaz9ftPwvvBj8s0f8Ppf2Mof%2BQjp3xGs/X7T8ONRGPyjNL/w%2BB%2BDdj/yNn7L3x%2B0HH3v7Y%2BFVwm367Haj/h9h%2BwTZf8AI0%2BKvF2h4%2B9/a3w%2B1RNv12QNR/att8wpr1p2/OUQ/wCIP%2BM7/h4SpP8Aw4eFT/01ian4B/w%2B4/4J6w/8hP4jeJLL1%2B1eANWGPytzSxf8Fx/%2BCXrP5Vx%2B0u9u/wDcuPBWtKR/5J4q7pf/AAWr/wCCYerkC2/ansoye114c1SDH/fy1Wugsf8Agqr/AME4tdQJH%2B1t4N2t2vLpoR/5FRa0jmU5/Dj6D/7dX/y5HJX8LvGbC/xcvrL1wOI/RswrX/gtL/wTFvP9T%2B1Zpwz/AM9dB1OP/wBCthWjbf8ABX3/AIJr3fMX7Wvh0Z/56wXSf%2BhRCtyD9t//AIJueI/v/tRfB%2BTd2vfFOmxk/wDfxxV6D4w/8E7vEn/Hr8Uvgvf56eXrmkS5/JzXRHFY6Xw4qg/k/wBKrPIrcH%2BJuG/i4WS9cJio/wDtv6mHB/wVc/4Jz3H%2Br/a98Hj/AK6XrL/6EoqzH/wVH/4J4SDK/theBh/vayo/nXQ22k/sJ%2BIMG0034S32enlw6XLn8ga0bT4Dfsg61g2PwZ%2BG13np5Xh3T5M/khraMs4l8NSi/lP9Js8url3GWH/ixpx/xUq8fzsch/w9A/4J54z/AMNh%2BA//AAex1HJ/wVJ/4J3xjLftg%2BBz/u6wp/lXf/8ADK37MHX/AIZw8Bf%2BEfZf/GqkT9mH9mqL/Vfs8%2BBl/wB3wlZj/wBp1py57/NS/wDAan/yRy8nEn89H/wGr/8AJHmkv/BVz/gnPD9/9r3wef8AdvWb%2BS1Wm/4K5f8ABN2D7/7XHhg/7nnt/KM165F%2Bzt%2Bz9B/qPgX4OT/c8MWg/wDadWYfgh8F7f8A49/hD4Xjx02aBbD%2BSUcmefz0v/AZ/wDyQez4k/5%2BUf8AwCp/8meHz/8ABYz/AIJo23%2Bs/ay0M/8AXOwvX/8AQYDWB8Jv20f2Y/2vP%2BChnglf2cvitbeJz4d%2BDPjP%2B2fs1jcw/ZvtGreFfJz58abt3ky/dzjZzjIz9NQfDD4aWpzbfDzQo8dNmkQj%2BS15Z4m0TRtG/wCChPwxTR9ItbQP8GfHe8W1use7GreEMZ2gZ6n861oQzVVU604OPVKMk/vcmvwN8NTztVk8RUpuHVRhNP5NzaWvkz3CiiivQPUCvn7/AIKXHTB%2BzXa/8Jp5f/CFf8LC8L/8LI%2B0f8e//CPf2zafbftWePsfl/8AHzu/d/ZvP8z93vr6BooA/O/UfFHw5f8A4JmfGjwR8MfE%2Bnw%2BCpvHF%2B/w7t9HuI2s7HwpPrcFub/yEyX0CO5%2B3u4jAhewilSJhGUI8Yk0n4V3Hw9svBOpfEv4JWXgCL9obXZrDx3rng2Kb4PXq/8ACJWjJHa6O18kMQ8%2BaWONBfsgv7TUJhI8j/Zh%2Bu9FAHhP7EmofEK3/wCCdHwru/CXhCa68RQfDDR47LSvHXiGe3e4lS0iQG6vBaSSrvA37zbbvmGY1OQPlL/gihB4v8Y/th/tS%2BP/AB/oljYanoXxA1TQmtdM1F7y2gll8Sa5eXMUU8kMLSosrKA7RRlhglFJwP0jr4r/AOCMvg99MX9pvxzdQ7Ztb/a38fRRtj70Ftq8yIf%2B%2B2lH4V52NpurisN2U3L7oSt%2BLPsuGcbDA5FnTfxVMPCkv%2B38VRcv/JabT8mfalFFFeifGhRRRQAUUUUAFFFFABRRRQAUUUUAFFFFABRRRQAUUUUAFFFFABRRRQAUUUUAFFFFABRRRQAUUUUAFFFFABRRRQAUUUUAFeM/sv8A/Jb/ANo7/ss1j/6hXhevZq8Z/Zf/AOS3/tHf9lmsf/UK8L0AezUUUUAFFFFABRRRQAUUUUAFFFFABRRRQAUUUUAFFFFABRRRQAUUUUAePf8ABQc%2BOR%2Bw58WD8N/7T/tj/hAtT%2Bz/ANib/t2z7O/m/ZvL%2Bfz/ACvM8vZ8%2B/bt%2BbFfNnwi8S/DzTvhj%2B094a/4Jya/4ag8O6l4Wmf4K2HgW6t1sLrxLF4dzeHSUhPluElfTTKYAVW5aXfiUy196UUAfG//AATLP7Ph%2BMfj3/hi06R/wqf/AIVv4K8z/hHNv2H/AISrfrP9peZs4/tH7H/ZH2vd%2B93eT5n7zfXoN/qXxXu/%2BCm3guz8beC/D2n6Fb/B7xwPDWo6V4nnvLu/Q6t4S8xrm2ksoUtCMJgJNcBtxyV2jd9D184ftH6v8a9H/bw%2BE8/wO%2BH/AIW8Rak3wj8drd2nivxhc6LBHB/anhIl0lt9PvWd920bDGowSd%2BQFIB9H0V4z/wnH/BQv/o1/wCDP/h%2BNW/%2BZej/AITj/goX/wBGv/Bn/wAPxq3/AMy9AHs1FeM/8Jx/wUL/AOjX/gz/AOH41b/5l6P%2BE4/4KF/9Gv8AwZ/8Pxq3/wAy9AHs1FfOOk/tHft26x8Z9f8Agdb/ALKHwkXVPDvhfSNdvLl/jrqnkSQajc6lbwohHhjcXVtLnLAqAA8eCxLBeo/4Tj/goX/0a/8ABn/w/Grf/MvQB7NRXjP/AAnH/BQv/o1/4M/%2BH41b/wCZej/hOP8AgoX/ANGv/Bn/AMPxq3/zL0AezUV4z/wnH/BQv/o1/wCDP/h%2BNW/%2BZeuX8A/tHft2/ETxX438IaP%2Byh8JIbjwH4oi0LVZLn466oEnnk0rT9TDxbfDBJTydRhUlgp3o4xgBmAPo6ivGf8AhOP%2BChf/AEa/8Gf/AA/Grf8AzL0f8Jx/wUL/AOjX/gz/AOH41b/5l6APZqK8Z/4Tj/goX/0a/wDBn/w/Grf/ADL0f8Jx/wAFC/8Ao1/4M/8Ah%2BNW/wDmXoA9mor5x%2BEX7R37dvxl8KXfi/w5%2Byh8JLa3s/FGt6FJHe/HXVFcz6Xqt1pk7jb4YYbGmtJGQ5yUZSQpyo6j/hOP%2BChf/Rr/AMGf/D8at/8AMvQB7NRXjP8AwnH/AAUL/wCjX/gz/wCH41b/AOZej/hOP%2BChf/Rr/wAGf/D8at/8y9AHs1FeM/8ACcf8FC/%2BjX/gz/4fjVv/AJl65f4I/tHft2/Hj4MeEPjj4V/ZQ%2BElrpfjPwvp%2Bu6bbah8ddUWeGC7to7iNJAnhhlDhZAGCswyDgkc0AfR1FeM/wDCcf8ABQv/AKNf%2BDP/AIfjVv8A5l6P%2BE4/4KF/9Gv/AAZ/8Pxq3/zL0AezUV4z/wAJx/wUL/6Nf%2BDP/h%2BNW/8AmXrl/jd%2B0d%2B3b8B/gx4v%2BOPir9lD4SXWl%2BDPC%2Boa7qVtp/x11Rp5oLS2kuJEjD%2BGFUuVjIUMyjJGSBzQB9HUV4z/AMJx/wAFC/8Ao1/4M/8Ah%2BNW/wDmXo/4Tj/goX/0a/8ABn/w/Grf/MvQB6xqnhjw1rYI1nw9Y3eev2q0STP/AH0DXO6n%2Bz18Ataz/bPwO8H3eev2rwzayZ/76jNcT/wnH/BQv/o1/wCDP/h%2BNW/%2BZej/AITj/goX/wBGv/Bn/wAPxq3/AMy9ZypUp/FFP1Sf5pnXQx%2BPwv8ABrTh/hnOP/pMomtqX7EP7F%2Bs5Orfsi/DC6J6m48A6c5/Mw1g6j/wTW/4J/6pn7T%2Bxx8Olz/z7eFbaH/0Wq1z/wAXf2jv27fg14UtPF/iP9lD4SXNveeKNE0KOOy%2BOuqM4n1TVbXTIHO7wwo2LNdxs5zkIrEBjhT1H/Ccf8FC/wDo1/4M/wDh%2BNW/%2BZesJZfl8/iowf8A25H/AORPXo8X8XYf%2BFmWIj6Yiuv/AHN%2BhzWof8Ek/wDgnBqWftP7JHhdc/8APus0X/oEgrFv/wDgir/wTD1HP2j9laxXP/PDxFqkX/oF0K7/AP4Tj/goX/0a/wDBn/w/Grf/ADL0f8Jx/wAFC/8Ao1/4M/8Ah%2BNW/wDmXrCWTZPPfDU//AI/5HqUvEvxGofw85xa9MTW/wDljPMv%2BHH/APwTZt/%2BQP8ABHVNO9PsXjvWFx/31dGk/wCHLP7FMH/IJb4gWGOn2P4jaiuP%2B%2BpTXp3/AAnH/BQv/o1/4M/%2BH41b/wCZeuX8fftHft2/DvxX4I8Iax%2Byh8JJrjx54ol0LSpLb466oUgnj0rUNTLy7vDAITydOmUFQx3ugxgllz/sLJemGgvSKX5WOr/iK/ia/iznEy/xVZS/9KUjmf8Ahzj%2BznB/yC/jR8Z7H0%2ByfFC7GPzzS/8ADof4aQ/8g39sL9ouz9PsvxZmGPziNem/8Jx/wUL/AOjX/gz/AOH41b/5l6P%2BE4/4KF/9Gv8AwZ/8Pxq3/wAy9H9hZR0or/yZflNB/wARV8RXvmVR%2BqpS/wDSsPI8x/4dM6dF/wAg/wD4KJftU2voIPjAQP1tjVP4K/sq3n7Mn/BQvwWtz%2B0x8U/iKutfBnxlsHxM8VDUzp/k6t4Vz9nIjTy/M80b%2Bu7yo%2Bm3n1r/AITj/goX/wBGv/Bn/wAPxq3/AMy9UPA/gf8Aas8Y/tWeHPjd8bvhx8PfDOjeGfh74h0OGHwr8Q77Wrq7utSvtEuEZkuNIsUijRNLlBYO7FpUAXGSNqGVZfhqqqUoWkvOf5ObX4Hn5px9xfneBng8divaU52unTw6vZpr3oYanNapbTXZ3V0/daKKK9A%2BPCiiigAooooAK8H/AOCdvhXTPDHwV8XTacG36p8ePiVfXbNjmVvGesL27BUUfhXvFfJX7JXiz9s7T/h74os/hj8A/hhq%2BhJ8afiL/Z%2Bo698XdR027mX/AITPWSxktotAuUiIbcABM%2BQAcgnaE4ptN9C41KkYSgnpK113s7r7nqfWtFeM/wDCcf8ABQv/AKNf%2BDP/AIfjVv8A5l6P%2BE4/4KF/9Gv/AAZ/8Pxq3/zL0yD2aivGf%2BE4/wCChf8A0a/8Gf8Aw/Grf/MvR/wnH/BQv/o1/wCDP/h%2BNW/%2BZegD2aivnH4I/tHft2/Hj4MeEPjj4V/ZQ%2BElrpfjPwvp%2Bu6bbah8ddUWeGC7to7iNJAnhhlDhZAGCswyDgkc11H/AAnH/BQv/o1/4M/%2BH41b/wCZegD2aivGf%2BE4/wCChf8A0a/8Gf8Aw/Grf/MvR/wnH/BQv/o1/wCDP/h%2BNW/%2BZegD2aivnH43ftHft2/Af4MeL/jj4q/ZQ%2BEl1pfgzwvqGu6lbaf8ddUaeaC0tpLiRIw/hhVLlYyFDMoyRkgc11H/AAnH/BQv/o1/4M/%2BH41b/wCZegD2aivGf%2BE4/wCChf8A0a/8Gf8Aw/Grf/MvR/wnH/BQv/o1/wCDP/h%2BNW/%2BZegD2aivGf8AhOP%2BChf/AEa/8Gf/AA/Grf8AzL1y/wAXf2jv27fg14UtPF/iP9lD4SXNveeKNE0KOOy%2BOuqM4n1TVbXTIHO7wwo2LNdxs5zkIrEBjhSAfR1FeM/8Jx/wUL/6Nf8Agz/4fjVv/mXo/wCE4/4KF/8ARr/wZ/8AD8at/wDMvQB7NRXjP/Ccf8FC/wDo1/4M/wDh%2BNW/%2BZej/hOP%2BChf/Rr/AMGf/D8at/8AMvQB7NRXzj4%2B/aO/bt%2BHfivwR4Q1j9lD4STXHjzxRLoWlSW3x11QpBPHpWoamXl3eGAQnk6dMoKhjvdBjBLL1H/Ccf8ABQv/AKNf%2BDP/AIfjVv8A5l6APZqK8Z/4Tj/goX/0a/8ABn/w/Grf/MvR/wAJx/wUL/6Nf%2BDP/h%2BNW/8AmXoA9morxn/hOP8AgoX/ANGv/Bn/AMPxq3/zL1y%2BrftHft26P8Z9A%2BB1x%2Byh8JG1TxF4X1fXbO5T466p5EcGnXOm28yOT4Y3B2bVICoCkEJJkqQoYA%2BjqK8Z/wCE4/4KF/8ARr/wZ/8AD8at/wDMvR/wnH/BQv8A6Nf%2BDP8A4fjVv/mXoA9morxn/hOP%2BChf/Rr/AMGf/D8at/8AMvR/wnH/AAUL/wCjX/gz/wCH41b/AOZegD2aivnHSf2jv27dY%2BM%2Bv/A63/ZQ%2BEi6p4d8L6Rrt5cv8ddU8iSDUbnUreFEI8Mbi6tpc5YFQAHjwWJYL1H/AAnH/BQv/o1/4M/%2BH41b/wCZegD2aivGf%2BE4/wCChf8A0a/8Gf8Aw/Grf/MvR/wnH/BQv/o1/wCDP/h%2BNW/%2BZegD2aivGf8AhOP%2BChf/AEa/8Gf/AA/Grf8AzL1y/gH9o79u34ieK/G/hDR/2UPhJDceA/FEWharJc/HXVAk88mlafqYeLb4YJKeTqMKksFO9HGMAMwB9HUV4z/wnH/BQv8A6Nf%2BDP8A4fjVv/mXo/4Tj/goX/0a/wDBn/w/Grf/ADL0AezV4z%2By/wD8lv8A2jv%2ByzWP/qFeF6P%2BE4/4KF/9Gv8AwZ/8Pxq3/wAy9W/2Vvhz8afB%2BsfFDx38dNA8L6Tqnj74hRa5Z6V4T8S3OrW9raxaDo%2BmKr3FxZWbNI0mnSuVEW0LIg3Mc4APW6KKKACiiigAooooAKKKKACiiigAooooAKKKKACiiigAooooAKKKKACiiigAr5X/AGnv2tPi58MPjH4s1rwD4d8HyeGPg/4f8P3vjU61pFxNquqW%2Br38qXMFhcR3EaWXkW1nHcZkinFzIUjIh8vzT9UV4z8Z/wBiH4cfG74pH4ma5458VaXFqNrpFr4v8NaNdWqad4pg0u9kvbGK%2BWW3kmCxzTS5%2BzywGWOQxTGWMKgAPZqKKKACiiigD5j8OftK/EyH9v8A8UfB/wCI2seHvCfhtfEFpongyLUfhFrKXXjGAaBBqOIPEbXa6c0sd3c6gBaCF5PLtJgFBZpF%2BnK8r8WfstQeP/jJpHxT8e/G/wAa6vpXh7XY9a0DwBcHTItGsdQjt3gjnDQ2SXsuzzJJFSa6kjEj7tnyIF9UoAKKKKAPF/8AgoL8Xfjh%2Bz9%2ByP40%2BPXwCvfCkeseCdCu9cuoPGGi3N9bXdpa20sz26JbXVsySuyIokLlUBYlH4Fef%2BPP2tPi54L%2BPHi3U/Cnh3whF8PPCHxj8I/D7xlZzaRcHW9V1XXYNFSPUIbtLhYY44P7c0mMxSW8ryJDPiWPagr2H9rH9nGy/a0%2BBGvfs%2B618VfFPhHSfE9lLY65f%2BEF077Xc2UsTxTW26/tLqNEdX5ZEWQFRtdec8XB%2BwD4On%2BItn8RfFXxx8fa6x1nSdc8TaNqEulRWPifXNMSNLHVr2O2sImW4iEFphbZoIGNjbF4mMeSAe90UUUAFeL/ALZPxd%2BOHwStfAPjH4WXvhT%2BxtQ%2BJnhzw94vsfEGi3NzdXNrqus2Omg2csN1CltJGtzLJvkSdSURdnJNe0V5V%2B1d%2By2/7VXhvQvC8/x98b%2BBrfQvElhrqN4Lh0dnu72xvILyzaU6lp94NsVxbxuFjCBuVk3qdoAPOP2ef2lfiZrf7VXi34I/FDV/D3hPTofFOt2/gnwlJ8ItZ0y5162hdJTf2%2BtXF39g1B2Mk0ssVtAX5LsVwxP05Xkuk/soh/jJovxl%2BI/7QHjvxrN4Xu7y78J6F4hGkw2Gj3VzbyWslxEthp9tLK/2eaeFfPklVFnfaASCPWqACiiigDw/9u74ufHj9n74Nav8dfhR4x8C2On%2BFtFuby90XxZ4Zvb%2B58Q3uUWz0yzktr2D7PNcSkW6N5V0zSzxBYWPyt5/8Ef2vvjPrnxL8Ff2t4M8JaR8NPG/xP8AFHw28K%2BGtO0uaPV9Ev8AQIdW3zz3IuGt5oJG8P6miwx28RjVrY%2BZJlgPT/2lf2QYP2kvHngj4gTftA%2BO/CFz4Bu7m90Wx8MRaNPZyXsqCNbyaDU9OvEeeGPzFhkAUxieUj5myKvgP9hr4e%2BA/jLb/F2H4i%2BLtSg07XdT17RPCGpXNl/ZOla3qMbx6hqkCRWqT%2BfOJ7ssrzPCjX1yY4o/M4APa6KKKACvl/8Aa5%2BPH7S/wW%2BImn%2BFNKh8AeNdH8cw61baL8OYvB99JrCWtpod1dyX9xOL14rq2F1Fb20kItYgft8KCYyMiSfUFeHTfsTXEf7R/iv9prRP2q/iXp2r%2BLdNh0650uGDw/PaafZwwNHDbWbXOky3NvEsrvdbFm2vO5dw4O2gBn7CH7Qfjf49/D28uviv4%2B0a%2B8XacLNtf8N2Xwu1fwjeaA89ssogubLV7qe4cFt/l3ACRyKh2htpNe6V5v8AA79m7Tvgz4n8SfEPWPil4p8ceKvFcVjb6x4n8XNYLcvaWYm%2By2qRafa2ttHFG1zcuNsIZmuJCzNkY9IoAKKKKAPjn/goJ%2B3H8VP2MPHP9p65ougeMfCL6NqOt2/hWX4c6nZS26abo19qSSf8JFNdPpk939r00bLFYEuhHMsoG2FpG9e/Zo%2BLvxz1b4qeN/2ev2jrnwpqHifwjpOh61HrXgrSLmwsbmx1QXkaRGC5ubl1liuNOu1L%2BbiRDE2yMkqK3x1/YS8EftOa1dWvx/8Ai3418UeC7mS4kX4ZXkmmw6LFJNYzWTNvt7KO%2BkAjuJmCS3ToHfdt%2BRAvT/s%2BfszaR8A7zXvEV38UPFnjjxH4kNnHq3irxrcWb30ttaRGK1tR9jtreFYog8rDEe9nnld2dnJoA9KooooAK%2BI/2p/2yv2s/g38avEHwo8HeG/DnjXU7DRbjXfDAT4H%2BII5NFA1HTLVDC325x4mkFjqlx539l%2BU8LQlZRGJhHX25Xh%2BvfsW6n4l8en4na1%2B1z8UZtb0%2BC8i8G3hTQAPCq3U0Mk/2SMaTsnZo4Ft916t0yxM4Uq7s5AOq/ZY%2BLD/ABk%2BEcHiy9%2BJmjeKr%2BHUbqy1S%2B0bwZfeHRbXEUrK1rNpuoXE91ZzxjCvHM4fPzbVDAV6NXDfAP4C%2BHvgB4Z1PRtK8U634g1HX9euNb8SeJPEc0DXuq38wRGnlFvFDAmI4oYlSGKONUiQBRgk9zQAUUUUAFFFFABRRRQAUUUUAUfFHiGw8JeGtR8V6qHNrpljNd3IiXLeXGhdsDucKa%2Bc/wBib9pP41%2BP/FOj%2BDPjZ4e8GWY8dfC2y%2BI3hmHwZpVxaDTI7y4Ju9PuzNcSi7mje5tn%2B2IIBO0sxMEe0F/pa7tLW/tZbG9t0mhmjaOaKVQyupGCpB4II4xXkP7M37FfgL9mDVX1fQPiD4t8Sy23hix8M%2BHR4svbWYaBoVm8j2%2Bm2pt7eEtGpk%2BaWczXEgji8yZ/LXAB7FRRRQAVwv7UHjz4i/Cz9mj4ifE74P8AhRde8W%2BHPAur6p4W0NrGa6Go6jb2csttbGGBllmEkqInlxsHbdhSCQa7qs7xbol/4l8Mah4f0vxXqOhXN7aSQ2%2BtaQsDXVi7KQJohcRSxF1PIEkbpkfMrDIIB5d%2BxT8Wp/ih8M76y1b4heH9Z1Pw7qq6deaZonww1Pwc%2BhoLaCSKzuNK1S5nuYXCOJFdvLR4pYtiYG9/Yq88%2BA/7O2k/A688S%2BI7n4ieJPGPiTxfqMN54i8U%2BK3sxd3Rht0t4IhHY21tbRRRxoAqxwpks7MWZmY%2Bh0AFFFFAHy5%2B1R%2B1j8UP2cPi944sviVo3hLxF8L7D9nfxf49ttCt9EuE1V20QaWs9tcXMly9vNFOt9OAgtkKhEy75YV2/wCzP8X/AI%2Bap8XPGX7Ov7Sz%2BErzxR4Y8MeHvEseq%2BCtJubGykstWfUrdbYw3NzcuZYbjSLsGUSBZEeJvLjO5ag%2BMf7Cvh346fHVvjL48%2BO3jmXTZvBWp%2BEb74ewwaL/AGJd6NqS232%2B0kL6a16RO1pA7OLoOpQhGRGZD0n7O/7Luh/s%2B32teI5/ih4t8b%2BIdftbCyv/ABP42ubSS9NhYpItnZj7JbW8flRGe4cEoZHe5ld3dmzQB6fRRRQAV8ifGv8AaX/a28Ga7%2B0B4Et/CvgzxZe%2BAvD/AIU8SfDax0n4f6nfzrHqOq6lCEvLWK8eXUZ4F02OdTbC3JckKvyq1fXdeFy/sUeIYvjp42%2BP%2BhftofFbStW8b6RY6Zc2NlZ%2BGGtNNtrK4uZ7NLYS6K8n7o3l0oMzyl1nIk8wqhUA6v8AZU%2BLc3xl%2BFI8Taj8TtG8U6ja6rc2OrXWj%2BCL/wANmzuIm%2Ba1n0zUbie6tJ0UruSZgxDK21VYV6TXCfAP4B6B8AdC1mx0/wAW654j1XxN4gl1zxP4m8SS27Xuq38kMMHmyC2hhgjCwW9vCqRRRoqQoAuck93QAUUUUAfG37S37Xf7S37PHxmg%2BG2sp8M/Gt9rcEE3hGHTvC17aS%2BC7zUvEOmeHtIm1OV76YXUU7avOC0S2cjixuljDL5hi9x/ZV%2BL/wASPiMPH/w%2B%2BMR0SfxV8NPHjeGtZ1Xw1p01nYan5ml6dq1vcQ28088lvm11S3R42mlxJHJhiCMcLbf8E1fCTXXxDfxD%2B0v8TtZt/iTrx1zWLfUjoXmWepRXEM%2Bn3NtdRaWl0psHt7cWkbzSRRLCgZH5z6x8A/gLofwD8Patptl4v1zxJq3iLXpta8T%2BKPEr2xv9XvpI4ofOmFrBBAuyCC3gRIoo0WOCNQvBJAO6ooooAZc/afs0n2PZ52w%2BV5udu7HGcc4zXxB8Vv2uf20/hp8RNc%2BG1vbeA/GeveGL3w1b6t468EfBXX9Wj8OW%2BrNePe2EulWepT3dzNHDZWN0TFOn7u6haWBAYmk%2B3ruGS4tZbeG6kgeSNlWeIKXjJGAy7gVyOoyCPUGvnv4MfsBeIPgJ8Nrj4afDv9ur4xRR3WrPqc2s3ll4Tn1CW7leWS5nmmfQj9pkneXdJJOJHzGmwoBggHrPwE%2BIdl8Vvg74f%2BIVh8QNG8VJqeniR9f8P6TNYWl3ICVkKWs800tsVdWRoZJHeNlZWO5SB19cl8C/gv4S/Z9%2BF%2BnfCnwVc39xZWEt1cTX2q3Imur67urmW6urqZwqhpZrieaV9qqu6Q7VVcKOtoAKo%2BJ4fElz4b1C38G6nY2WryWUq6XeanYPdW0FwUIjklhjliaaNWwWRZIywBAdSdwvVm%2BMdBv/ABR4Wv8Aw7pfi3UtBuby1eKDWtHEBurFyOJohcRSxF1PIEkbocfMrDIoA%2BHvhv8At2fta/GD4p638EvhZpvw%2BTxnptrrt9J4z8V/C7WtDXVNM0i10WVLGXRLy%2BTUNPle78Q7EmnmePyoZLhIXWdAfsb4BfFrTfj58CfBXx10bTZbOz8a%2BEtN160s5n3PBFeWsdwsbEAZKiQAn1FeLav/AMEyPA%2Bta5ffEW7/AGlPimnxA1ZLy11r4k217pEOrX%2BmXVta202mFE00WcNsUsrRh5FtFKskCyrKHLMfoPwX4P8ADXw88HaT4A8GaTFp%2Bj6HpkGn6TYQ52W1tDGscUa55wqKqj6UAadFFFAHL/GnUfHGjfC3Wtb%2BHPiGx0vVrCzN1Dfah4PvfECJHGQ8oGnWM8FzeSNErqkUMgcuy4Vz8jfFvwl/4KI/H7xJ400PU/G9x4R8CeDNSnnXxB44vPgZ4imttYv4dfutIRLmVb6NPDM8lraWv7jVGklgeVY3zsCV9t/EzwZrvj3wlN4c8N/FLX/Bt5JLG8Wv%2BGYrF7uDawJVVv7a5gYMAVIeJuCcYOCPFbr/AIJzeFNQ8H3Hw21b9pD4m3fhjXNQmv8Ax5oE1xo4i8YXc9411cTX0q6aLiLzSywtHZy2sQhiSNUUbtwB9E0UUUAFFFFABRRRQAUUUUAFFFFABRRRQAUUUUAFFFFABRRRQAUUUUAFFFFABRRRQAUUUUAFFFFABRRRQAUUUUAFFFFABRRRQAUUUUAFFFFABRRRQAUUUUAFFFFABRRRQAUUUUAFFFFABRRRQAUUUUAFFFFABRRRQAUUUUAFFFFABRRRQAUUUUAFFFFABRRRQAUUUUAFFFFABRRRQAUUUUAFFFFABRRRQAUUUUAFFFFABRRRQAUUUUAFFFFABRRRQAUUUUAFFFFABRRRQAUUUUAFFFFABRRRQAUUUUAFFFFABRRRQAUUUUAFFFFABRRRQAUUUUAf/9k%3D\">"
     },
     "metadata": {}
    }
   ],
   "source": [
    "s.run(tf.global_variables_initializer())\n",
    "\n",
    "BATCH_SIZE = 512\n",
    "EPOCHS = 40\n",
    "\n",
    "# for logging the progress right here in Jupyter (for those who don't have TensorBoard)\n",
    "simpleTrainingCurves = matplotlib_utils.SimpleTrainingCurves(\"cross-entropy\", \"accuracy\")\n",
    "\n",
    "for epoch in range(EPOCHS):  # we finish an epoch when we've looked at all training samples\n",
    "    \n",
    "    batch_losses = []\n",
    "    for batch_start in range(0, X_train_flat.shape[0], BATCH_SIZE):  # data is already shuffled\n",
    "        _, batch_loss = s.run([step, loss], {input_X: X_train_flat[batch_start:batch_start+BATCH_SIZE], \n",
    "                                             input_y: y_train_oh[batch_start:batch_start+BATCH_SIZE]})\n",
    "        # collect batch losses, this is almost free as we need a forward pass for backprop anyway\n",
    "        batch_losses.append(batch_loss)\n",
    "\n",
    "    train_loss = np.mean(batch_losses)\n",
    "    val_loss = s.run(loss, {input_X: X_val_flat, input_y: y_val_oh})  # this part is usually small\n",
    "    train_accuracy = accuracy_score(y_train, s.run(classes, {input_X: X_train_flat}))  # this is slow and usually skipped\n",
    "    valid_accuracy = accuracy_score(y_val, s.run(classes, {input_X: X_val_flat}))  \n",
    "    simpleTrainingCurves.add(train_loss, val_loss, train_accuracy, valid_accuracy)"
   ]
  },
  {
   "cell_type": "markdown",
   "metadata": {},
   "source": [
    "# Submit a linear model"
   ],
   "execution_count": null,
   "outputs": []
  },
  {
   "cell_type": "code",
   "execution_count": 17,
   "metadata": {},
   "outputs": [],
   "source": [
    "## GRADED PART, DO NOT CHANGE!\n",
    "# Testing shapes \n",
    "grader.set_answer(\"9XaAS\", grading_utils.get_tensors_shapes_string([W, b, input_X, input_y, logits, probas, classes]))\n",
    "# Validation loss\n",
    "grader.set_answer(\"vmogZ\", s.run(loss, {input_X: X_val_flat, input_y: y_val_oh}))\n",
    "# Validation accuracy\n",
    "grader.set_answer(\"RMv95\", accuracy_score(y_val, s.run(classes, {input_X: X_val_flat})))"
   ]
  },
  {
   "cell_type": "code",
   "execution_count": 18,
   "metadata": {},
   "outputs": [
    {
     "output_type": "stream",
     "name": "stdout",
     "text": "Submitted to Coursera platform. See results on assignment page!\n"
    }
   ],
   "source": [
    "# you can make submission with answers so far to check yourself at this stage\n",
    "grader.submit(COURSERA_EMAIL, COURSERA_TOKEN)"
   ]
  },
  {
   "cell_type": "markdown",
   "metadata": {},
   "source": [
    "# MLP with hidden layers"
   ],
   "execution_count": null,
   "outputs": []
  },
  {
   "cell_type": "markdown",
   "metadata": {},
   "source": [
    "Previously we've coded a dense layer with matrix multiplication by hand. \n",
    "But this is not convenient, you have to create a lot of variables and your code becomes a mess. \n",
    "In TensorFlow there's an easier way to make a dense layer:\n",
    "```python\n",
    "hidden1 = tf.layers.dense(inputs, 256, activation=tf.nn.sigmoid)\n",
    "```\n",
    "\n",
    "That will create all the necessary variables automatically.\n",
    "Here you can also choose an activation function (remember that we need it for a hidden layer!).\n",
    "\n",
    "Now define the MLP with 2 hidden layers and restart training with the cell above.\n",
    "\n",
    "You're aiming for ~0.97 validation accuracy here."
   ],
   "execution_count": null,
   "outputs": []
  },
  {
   "cell_type": "code",
   "execution_count": 19,
   "metadata": {},
   "outputs": [
    {
     "output_type": "stream",
     "name": "stdout",
     "text": "WARNING:tensorflow:From <ipython-input-19-5e8df7ac3113>:4: dense (from tensorflow.python.layers.core) is deprecated and will be removed in a future version.\nInstructions for updating:\nUse keras.layers.Dense instead.\nWARNING:tensorflow:From /home/dimitry/.local/lib/python3.7/site-packages/tensorflow_core/python/layers/core.py:187: Layer.apply (from tensorflow.python.keras.engine.base_layer) is deprecated and will be removed in a future version.\nInstructions for updating:\nPlease use `layer.__call__` method instead.\n"
    }
   ],
   "source": [
    "# write the code here to get a new `step` operation and then run the cell with training loop above.\n",
    "# name your variables in the same way (e.g. logits, probas, classes, etc) for safety.\n",
    "\n",
    "hidden1 = tf.layers.dense(input_X, 256, activation = tf.nn.sigmoid)\n",
    "hidden2 = tf.layers.dense(hidden1, 256, activation = tf.nn.sigmoid)\n",
    "\n",
    "logits = tf.layers.dense(hidden2, y_train_oh.shape[1], activation = None)\n",
    "probas = tf.nn.softmax(logits)\n",
    "classes = tf.argmax(probas, axis = 1)\n",
    "\n",
    "loss = tf.reduce_mean(tf.nn.softmax_cross_entropy_with_logits(labels = input_y, logits = logits)) ### cross-entropy loss\n",
    "step = tf.train.AdamOptimizer().minimize(loss)"
   ]
  },
  {
   "cell_type": "markdown",
   "metadata": {},
   "source": [
    "# Submit the MLP with 2 hidden layers\n",
    "Run these cells after training the MLP with 2 hidden layers"
   ],
   "execution_count": null,
   "outputs": []
  },
  {
   "cell_type": "code",
   "execution_count": 21,
   "metadata": {},
   "outputs": [],
   "source": [
    "## GRADED PART, DO NOT CHANGE!\n",
    "# Validation loss for MLP\n",
    "grader.set_answer(\"i8bgs\", s.run(loss, {input_X: X_val_flat, input_y: y_val_oh}))\n",
    "# Validation accuracy for MLP\n",
    "grader.set_answer(\"rE763\", accuracy_score(y_val, s.run(classes, {input_X: X_val_flat})))"
   ]
  },
  {
   "cell_type": "code",
   "execution_count": 22,
   "metadata": {},
   "outputs": [
    {
     "output_type": "stream",
     "name": "stdout",
     "text": "Submitted to Coursera platform. See results on assignment page!\n"
    }
   ],
   "source": [
    "# you can make submission with answers so far to check yourself at this stage\n",
    "grader.submit(COURSERA_EMAIL, COURSERA_TOKEN)"
   ]
  },
  {
   "cell_type": "code",
   "execution_count": null,
   "metadata": {},
   "outputs": [],
   "source": []
  }
 ],
 "metadata": {
  "kernelspec": {
   "display_name": "Python 3",
   "language": "python",
   "name": "python3"
  },
  "language_info": {
   "codemirror_mode": {
    "name": "ipython",
    "version": 3
   },
   "file_extension": ".py",
   "mimetype": "text/x-python",
   "name": "python",
   "nbconvert_exporter": "python",
   "pygments_lexer": "ipython3",
   "version": "3.7.5-final"
  }
 },
 "nbformat": 4,
 "nbformat_minor": 4
}